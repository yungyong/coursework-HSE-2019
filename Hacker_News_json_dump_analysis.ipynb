{
 "cells": [
  {
   "cell_type": "code",
   "execution_count": 3,
   "metadata": {},
   "outputs": [],
   "source": [
    "import pandas as pd\n",
    "import numpy as np\n",
    "\n",
    "import urllib\n",
    "import html\n",
    "import json\n",
    "import re\n",
    "\n",
    "import matplotlib.pyplot as plt\n",
    "import seaborn as sns\n",
    "import missingno\n",
    "\n",
    "import nltk\n",
    "from nltk.tokenize import word_tokenize, sent_tokenize, RegexpTokenizer\n",
    "\n",
    "from collections import Counter, defaultdict\n",
    "from functools import lru_cache\n",
    "from functools import reduce\n",
    "import tqdm"
   ]
  },
  {
   "cell_type": "code",
   "execution_count": null,
   "metadata": {},
   "outputs": [],
   "source": [
    "%matplotlib inline\n",
    "pd.options.display.max_columns=100\n",
    "pd.options.display.max_colwidth=100\n",
    "\n",
    "#nltk.download('punkt')"
   ]
  },
  {
   "cell_type": "markdown",
   "metadata": {},
   "source": [
    "### дамп с Хакерньюз за май 2018 г. ссылка: https://files.pushshift.io/hackernews/"
   ]
  },
  {
   "cell_type": "code",
   "execution_count": 2,
   "metadata": {},
   "outputs": [],
   "source": [
    "set_of_confs = []\n",
    "type_count_dict = defaultdict(list)\n",
    "\n",
    "with open('./data/HNI_2018-05', 'r') as f:\n",
    "    for line in f:\n",
    "        temp_dict = json.loads(line)\n",
    "        set_of_confs.append(tuple(sorted(temp_dict.keys())))\n",
    "        type_of_post = temp_dict['type']\n",
    "        type_count_dict[type_of_post].append(tuple(sorted(temp_dict.keys())))     "
   ]
  },
  {
   "cell_type": "markdown",
   "metadata": {},
   "source": [
    "### различные конфигурации постов"
   ]
  },
  {
   "cell_type": "code",
   "execution_count": 128,
   "metadata": {},
   "outputs": [
    {
     "name": "stdout",
     "output_type": "stream",
     "text": [
      "number of unique configurations = 33 \n",
      "\n",
      "count \t configuration\n",
      "101325 \t ('by', 'id', 'parent', 'retrieved_on', 'text', 'time', 'type')\n",
      "95565 \t ('by', 'id', 'kids', 'parent', 'retrieved_on', 'text', 'time', 'type')\n",
      "17409 \t ('by', 'descendants', 'id', 'retrieved_on', 'score', 'time', 'title', 'type', 'url')\n",
      "6528 \t ('by', 'dead', 'id', 'retrieved_on', 'score', 'time', 'title', 'type', 'url')\n",
      "5152 \t ('by', 'descendants', 'id', 'kids', 'retrieved_on', 'score', 'time', 'title', 'type', 'url')\n",
      "4952 \t ('deleted', 'id', 'parent', 'retrieved_on', 'time', 'type')\n",
      "2430 \t ('by', 'dead', 'id', 'parent', 'retrieved_on', 'text', 'time', 'type')\n",
      "858 \t ('by', 'descendants', 'id', 'kids', 'retrieved_on', 'score', 'text', 'time', 'title', 'type')\n",
      "857 \t ('deleted', 'id', 'retrieved_on', 'time', 'type')\n",
      "504 \t ('by', 'dead', 'id', 'kids', 'parent', 'retrieved_on', 'text', 'time', 'type')\n",
      "452 \t ('by', 'descendants', 'id', 'retrieved_on', 'score', 'text', 'time', 'title', 'type')\n",
      "384 \t ('by', 'dead', 'id', 'retrieved_on', 'score', 'text', 'time', 'title', 'type')\n",
      "317 \t ('by', 'dead', 'id', 'kids', 'retrieved_on', 'score', 'time', 'title', 'type', 'url')\n",
      "220 \t ('dead', 'deleted', 'id', 'retrieved_on', 'time', 'type')\n",
      "174 \t ('dead', 'deleted', 'id', 'parent', 'retrieved_on', 'time', 'type')\n",
      "130 \t ('by', 'id', 'retrieved_on', 'score', 'time', 'title', 'type', 'url')\n",
      "121 \t ('by', 'descendants', 'id', 'kids', 'retrieved_on', 'score', 'time', 'title', 'type')\n",
      "66 \t ('by', 'descendants', 'id', 'retrieved_on', 'score', 'time', 'title', 'type')\n",
      "47 \t ('by', 'dead', 'id', 'retrieved_on', 'score', 'time', 'title', 'type')\n",
      "42 \t ('by', 'dead', 'id', 'kids', 'retrieved_on', 'score', 'text', 'time', 'title', 'type')\n",
      "34 \t ('by', 'id', 'poll', 'retrieved_on', 'score', 'text', 'time', 'type')\n",
      "27 \t ('by', 'id', 'retrieved_on', 'score', 'text', 'time', 'title', 'type')\n",
      "15 \t ('deleted', 'id', 'kids', 'parent', 'retrieved_on', 'time', 'type')\n",
      "13 \t ('deleted', 'id', 'kids', 'retrieved_on', 'time', 'type')\n",
      "10 \t ('by', 'dead', 'id', 'kids', 'retrieved_on', 'score', 'time', 'title', 'type')\n",
      "6 \t ('by', 'id', 'parent', 'retrieved_on', 'time', 'type')\n",
      "2 \t ('dead', 'deleted', 'id', 'kids', 'retrieved_on', 'time', 'type')\n",
      "1 \t ('by', 'dead', 'id', 'parent', 'retrieved_on', 'time', 'type')\n",
      "1 \t ('by', 'descendants', 'id', 'kids', 'parts', 'retrieved_on', 'score', 'text', 'time', 'title', 'type')\n",
      "1 \t ('dead', 'deleted', 'id', 'kids', 'parent', 'retrieved_on', 'time', 'type')\n",
      "1 \t ('dead', 'id', 'retrieved_on', 'time', 'type')\n",
      "1 \t ('by', 'descendants', 'id', 'kids', 'retrieved_on', 'score', 'text', 'time', 'title', 'type', 'url')\n",
      "1 \t ('by', 'id', 'kids', 'parent', 'retrieved_on', 'time', 'type')\n"
     ]
    }
   ],
   "source": [
    "print('number of unique configurations = {} \\n'.format(len(set(set_of_confs))))\n",
    "\n",
    "print('count \\t configuration')\n",
    "for configuration, count in sorted(Counter(set_of_confs).items(), key=lambda x: x[1], reverse=True):\n",
    "    print(count, '\\t', configuration)"
   ]
  },
  {
   "cell_type": "code",
   "execution_count": 18,
   "metadata": {},
   "outputs": [
    {
     "name": "stderr",
     "output_type": "stream",
     "text": [
      "100%|██████████| 237646/237646 [03:34<00:00, 1108.12it/s]\n"
     ]
    }
   ],
   "source": [
    "columns = list(reduce(lambda x, y: set(x) | set(y), set_of_confs))\n",
    "list_of_dfs = []\n",
    "\n",
    "with open('./data/HNI_2018-05', 'r') as f:\n",
    "    for line in tqdm.tqdm(f, total=len(set_of_confs)):\n",
    "        temp_dict = json.loads(line)\n",
    "        start_dict = {col: [None] for col in columns}\n",
    "        for column_name, column_value in temp_dict.items():\n",
    "            start_dict[column_name] = [column_value]\n",
    "        list_of_dfs.append(pd.DataFrame(start_dict)) \n",
    "        \n",
    "fin_df = pd.concat(list_of_dfs).reset_index(drop=True)\n",
    "fin_df.to_csv('./data/df_hni_2018_05.csv', index=None)"
   ]
  },
  {
   "cell_type": "code",
   "execution_count": 49,
   "metadata": {},
   "outputs": [
    {
     "name": "stderr",
     "output_type": "stream",
     "text": [
      "/home/ann/venv/lib/python3.5/site-packages/IPython/core/interactiveshell.py:3020: DtypeWarning: Columns (7) have mixed types. Specify dtype option on import or set low_memory=False.\n",
      "  interactivity=interactivity, compiler=compiler, result=result)\n"
     ]
    }
   ],
   "source": [
    "fin_df = pd.read_csv('./data/df_hni_2018_05.csv')"
   ]
  },
  {
   "cell_type": "code",
   "execution_count": 51,
   "metadata": {},
   "outputs": [],
   "source": [
    "for col in ['text_sentences', 'text_words', 'title_words', 'lengths_of_text_words',\n",
    "       'lengths_of_title_words']:\n",
    "    fin_df[col] = fin_df[col].apply(eval)\n",
    "    \n",
    "    \n",
    "    \n",
    "    "
   ]
  },
  {
   "cell_type": "code",
   "execution_count": 79,
   "metadata": {},
   "outputs": [],
   "source": [
    "\n",
    "col = 'kids'\n",
    "fin_df[col] = fin_df[col].apply(lambda x: eval(x) if isinstance(x,str) else None)"
   ]
  },
  {
   "cell_type": "code",
   "execution_count": 82,
   "metadata": {},
   "outputs": [
    {
     "data": {
      "text/plain": [
       "(237646, 31)"
      ]
     },
     "execution_count": 82,
     "metadata": {},
     "output_type": "execute_result"
    }
   ],
   "source": [
    "fin_df.shape"
   ]
  },
  {
   "cell_type": "markdown",
   "metadata": {},
   "source": [
    "### нулевые значения, корреляция и каунтплоты"
   ]
  },
  {
   "cell_type": "code",
   "execution_count": 38,
   "metadata": {},
   "outputs": [
    {
     "data": {
      "text/plain": [
       "<matplotlib.axes._subplots.AxesSubplot at 0x7f491c16b4e0>"
      ]
     },
     "execution_count": 38,
     "metadata": {},
     "output_type": "execute_result"
    },
    {
     "data": {
      "image/png": "[encoded data removed]",
      "text/plain": [
       "<Figure size 1440x864 with 1 Axes>"
      ]
     },
     "metadata": {
      "needs_background": "light"
     },
     "output_type": "display_data"
    }
   ],
   "source": [
    "missingno.heatmap(fin_df)"
   ]
  },
  {
   "cell_type": "markdown",
   "metadata": {},
   "source": [
    " самые часто встречающиеся типы постов - комментарии и стори"
   ]
  },
  {
   "cell_type": "code",
   "execution_count": 42,
   "metadata": {},
   "outputs": [
    {
     "data": {
      "text/plain": [
       "comment    204974\n",
       "story       32473\n",
       "job           160\n",
       "pollopt        36\n",
       "poll            3\n",
       "Name: type, dtype: int64"
      ]
     },
     "execution_count": 42,
     "metadata": {},
     "output_type": "execute_result"
    }
   ],
   "source": [
    "fin_df['type'].value_counts()"
   ]
  },
  {
   "cell_type": "markdown",
   "metadata": {},
   "source": [
    "###  для стори характерны descedants (потомки) и дети, скор, титл и url"
   ]
  },
  {
   "cell_type": "code",
   "execution_count": 40,
   "metadata": {},
   "outputs": [
    {
     "data": {
      "text/plain": [
       "<matplotlib.axes._subplots.AxesSubplot at 0x7f491bad46d8>"
      ]
     },
     "execution_count": 40,
     "metadata": {},
     "output_type": "execute_result"
    },
    {
     "data": {
      "image/png": "[encoded data removed]",
      "text/plain": [
       "<Figure size 1728x720 with 3 Axes>"
      ]
     },
     "metadata": {
      "needs_background": "light"
     },
     "output_type": "display_data"
    }
   ],
   "source": [
    "missingno.bar(fin_df[fin_df['type']=='story'])"
   ]
  },
  {
   "cell_type": "markdown",
   "metadata": {},
   "source": [
    "### для комментариев характерны kids, parent и text"
   ]
  },
  {
   "cell_type": "code",
   "execution_count": 41,
   "metadata": {},
   "outputs": [
    {
     "data": {
      "text/plain": [
       "<matplotlib.axes._subplots.AxesSubplot at 0x7f491b95ae80>"
      ]
     },
     "execution_count": 41,
     "metadata": {},
     "output_type": "execute_result"
    },
    {
     "data": {
      "image/png": "[encoded data removed]",
      "text/plain": [
       "<Figure size 1728x720 with 3 Axes>"
      ]
     },
     "metadata": {
      "needs_background": "light"
     },
     "output_type": "display_data"
    }
   ],
   "source": [
    "missingno.bar(fin_df[fin_df['type']=='comment'])"
   ]
  },
  {
   "cell_type": "markdown",
   "metadata": {},
   "source": [
    "### для большинства данных мы знаем автора, id поста, время, связи с другими, какой-то текст "
   ]
  },
  {
   "cell_type": "markdown",
   "metadata": {},
   "source": [
    "### даты: "
   ]
  },
  {
   "cell_type": "markdown",
   "metadata": {},
   "source": [
    "в выходные дни количество стори и комментариев снижается вдвое"
   ]
  },
  {
   "cell_type": "code",
   "execution_count": 9,
   "metadata": {},
   "outputs": [
    {
     "data": {
      "image/png": "[encoded data removed]",
      "text/plain": [
       "<Figure size 864x720 with 1 Axes>"
      ]
     },
     "metadata": {
      "needs_background": "light"
     },
     "output_type": "display_data"
    }
   ],
   "source": [
    "fin_df['day'] = pd.to_datetime(fin_df.time, unit='s').dt.date\n",
    "\n",
    "plt.figure(figsize=(12,10))\n",
    "plt.xticks(rotation=45)\n",
    "sns.countplot(data=fin_df[fin_df['type']=='story'][['id', 'day']],x='day', order=sorted(fin_df.day.unique()))\n",
    "plt.show()"
   ]
  },
  {
   "cell_type": "markdown",
   "metadata": {},
   "source": [
    "дата извлечения всегда больше чем время, при этом уникальный пост извлекался только 1 раз\n",
    "\n",
    "и разница во времени между извлечением и публикацией составляет от 7 до 37 дней, \n",
    "за такое непродолжительное время могли не собраться все комментарии и не устаканиться оценка"
   ]
  },
  {
   "cell_type": "code",
   "execution_count": 112,
   "metadata": {},
   "outputs": [
    {
     "data": {
      "text/html": [
       "<div>\n",
       "<style scoped>\n",
       "    .dataframe tbody tr th:only-of-type {\n",
       "        vertical-align: middle;\n",
       "    }\n",
       "\n",
       "    .dataframe tbody tr th {\n",
       "        vertical-align: top;\n",
       "    }\n",
       "\n",
       "    .dataframe thead th {\n",
       "        text-align: right;\n",
       "    }\n",
       "</style>\n",
       "<table border=\"1\" class=\"dataframe\">\n",
       "  <thead>\n",
       "    <tr style=\"text-align: right;\">\n",
       "      <th></th>\n",
       "      <th>retrieved_on</th>\n",
       "      <th>time</th>\n",
       "    </tr>\n",
       "  </thead>\n",
       "  <tbody>\n",
       "    <tr>\n",
       "      <th>0</th>\n",
       "      <td>1528401048</td>\n",
       "      <td>1525132803</td>\n",
       "    </tr>\n",
       "    <tr>\n",
       "      <th>1</th>\n",
       "      <td>1528401048</td>\n",
       "      <td>1525132825</td>\n",
       "    </tr>\n",
       "    <tr>\n",
       "      <th>2</th>\n",
       "      <td>1528401048</td>\n",
       "      <td>1525132827</td>\n",
       "    </tr>\n",
       "  </tbody>\n",
       "</table>\n",
       "</div>"
      ],
      "text/plain": [
       "   retrieved_on        time\n",
       "0    1528401048  1525132803\n",
       "1    1528401048  1525132825\n",
       "2    1528401048  1525132827"
      ]
     },
     "execution_count": 112,
     "metadata": {},
     "output_type": "execute_result"
    }
   ],
   "source": [
    "fin_df[['retrieved_on', 'time']].head(3)"
   ]
  },
  {
   "cell_type": "code",
   "execution_count": 111,
   "metadata": {},
   "outputs": [
    {
     "data": {
      "text/plain": [
       "16965540    1\n",
       "17132280    1\n",
       "16964366    1\n",
       "Name: id, dtype: int64"
      ]
     },
     "execution_count": 111,
     "metadata": {},
     "output_type": "execute_result"
    }
   ],
   "source": [
    "fin_df['id'].value_counts().head(3)"
   ]
  },
  {
   "cell_type": "code",
   "execution_count": 132,
   "metadata": {},
   "outputs": [
    {
     "data": {
      "text/plain": [
       "<matplotlib.axes._subplots.AxesSubplot at 0x7f48c632b588>"
      ]
     },
     "execution_count": 132,
     "metadata": {},
     "output_type": "execute_result"
    },
    {
     "data": {
      "image/png": "[encoded data removed]",
      "text/plain": [
       "<Figure size 432x288 with 1 Axes>"
      ]
     },
     "metadata": {
      "needs_background": "light"
     },
     "output_type": "display_data"
    }
   ],
   "source": [
    "((fin_df['retrieved_on'] - fin_df['time'])/60/60/24).hist(bins=30)"
   ]
  },
  {
   "cell_type": "markdown",
   "metadata": {},
   "source": [
    "### первичная статистика по текстам"
   ]
  },
  {
   "cell_type": "code",
   "execution_count": 54,
   "metadata": {},
   "outputs": [],
   "source": [
    "fin_df.loc[fin_df['text'].isnull(), 'text'] = ''\n",
    "fin_df.loc[fin_df['title'].isnull(), 'title'] = ''\n",
    "\n",
    "fin_df.loc[:, 'text'] = fin_df.loc[:, 'text'].apply(html.unescape)\n",
    "fin_df.loc[:, 'title'] = fin_df.loc[:, 'title'].apply(html.unescape)"
   ]
  },
  {
   "cell_type": "code",
   "execution_count": 55,
   "metadata": {},
   "outputs": [],
   "source": [
    "fin_df['text_sentences'] = fin_df['text'].astype(str).apply(sent_tokenize)\n",
    "\n",
    "tok = RegexpTokenizer(r'\\w+')\n",
    "fin_df['text_words'] = fin_df['text'].apply(tok.tokenize)\n",
    "fin_df['title_words'] = fin_df['title'].apply(tok.tokenize)"
   ]
  },
  {
   "cell_type": "code",
   "execution_count": 56,
   "metadata": {},
   "outputs": [],
   "source": [
    "fin_df['text_words_count'] = fin_df['text_words'].apply(lambda x: len(x))\n",
    "fin_df['title_words_count'] = fin_df['title_words'].apply(lambda x: len(x))"
   ]
  },
  {
   "cell_type": "code",
   "execution_count": 57,
   "metadata": {},
   "outputs": [],
   "source": [
    "fin_df['text_sentences_count'] = fin_df['text_sentences'].apply(lambda x: len(x))"
   ]
  },
  {
   "cell_type": "code",
   "execution_count": 58,
   "metadata": {},
   "outputs": [],
   "source": [
    "fin_df['lengths_of_text_words'] = fin_df['text_words'].apply(lambda x: [len(w) for w in x])\n",
    "fin_df['lengths_of_title_words'] = fin_df['title_words'].apply(lambda x: [len(w) for w in x])"
   ]
  },
  {
   "cell_type": "code",
   "execution_count": 59,
   "metadata": {},
   "outputs": [
    {
     "data": {
      "text/html": [
       "<div>\n",
       "<style scoped>\n",
       "    .dataframe tbody tr th:only-of-type {\n",
       "        vertical-align: middle;\n",
       "    }\n",
       "\n",
       "    .dataframe tbody tr th {\n",
       "        vertical-align: top;\n",
       "    }\n",
       "\n",
       "    .dataframe thead th {\n",
       "        text-align: right;\n",
       "    }\n",
       "</style>\n",
       "<table border=\"1\" class=\"dataframe\">\n",
       "  <thead>\n",
       "    <tr style=\"text-align: right;\">\n",
       "      <th></th>\n",
       "      <th>text</th>\n",
       "      <th>text_sentences_count</th>\n",
       "      <th>text_words</th>\n",
       "      <th>text_words_count</th>\n",
       "      <th>lengths_of_text_words</th>\n",
       "    </tr>\n",
       "  </thead>\n",
       "  <tbody>\n",
       "    <tr>\n",
       "      <th>0</th>\n",
       "      <td>The New York State fee by itself is $200. Unless I'm missing something, you paid significantly m...</td>\n",
       "      <td>2</td>\n",
       "      <td>[The, New, York, State, fee, by, itself, is, 200, Unless, I, m, missing, something, you, paid, s...</td>\n",
       "      <td>38</td>\n",
       "      <td>[3, 3, 4, 5, 3, 2, 6, 2, 3, 6, 1, 1, 7, 9, 3, 4, 13, 4, 4, 4, 3, 3, 11, 11, 2, 3, 6, 1, 3, 4, 2,...</td>\n",
       "    </tr>\n",
       "  </tbody>\n",
       "</table>\n",
       "</div>"
      ],
      "text/plain": [
       "                                                                                                  text  \\\n",
       "0  The New York State fee by itself is $200. Unless I'm missing something, you paid significantly m...   \n",
       "\n",
       "   text_sentences_count  \\\n",
       "0                     2   \n",
       "\n",
       "                                                                                            text_words  \\\n",
       "0  [The, New, York, State, fee, by, itself, is, 200, Unless, I, m, missing, something, you, paid, s...   \n",
       "\n",
       "   text_words_count  \\\n",
       "0                38   \n",
       "\n",
       "                                                                                 lengths_of_text_words  \n",
       "0  [3, 3, 4, 5, 3, 2, 6, 2, 3, 6, 1, 1, 7, 9, 3, 4, 13, 4, 4, 4, 3, 3, 11, 11, 2, 3, 6, 1, 3, 4, 2,...  "
      ]
     },
     "execution_count": 59,
     "metadata": {},
     "output_type": "execute_result"
    }
   ],
   "source": [
    "fin_df[['text', 'text_sentences_count', 'text_words', 'text_words_count', 'lengths_of_text_words']].head(1)"
   ]
  },
  {
   "cell_type": "code",
   "execution_count": 60,
   "metadata": {},
   "outputs": [
    {
     "data": {
      "text/html": [
       "<div>\n",
       "<style scoped>\n",
       "    .dataframe tbody tr th:only-of-type {\n",
       "        vertical-align: middle;\n",
       "    }\n",
       "\n",
       "    .dataframe tbody tr th {\n",
       "        vertical-align: top;\n",
       "    }\n",
       "\n",
       "    .dataframe thead th {\n",
       "        text-align: right;\n",
       "    }\n",
       "</style>\n",
       "<table border=\"1\" class=\"dataframe\">\n",
       "  <thead>\n",
       "    <tr style=\"text-align: right;\">\n",
       "      <th></th>\n",
       "      <th>title</th>\n",
       "      <th>title_words</th>\n",
       "      <th>title_words_count</th>\n",
       "      <th>lengths_of_title_words</th>\n",
       "    </tr>\n",
       "  </thead>\n",
       "  <tbody>\n",
       "    <tr>\n",
       "      <th>4</th>\n",
       "      <td>How to Rewire Your Brain--And Vision</td>\n",
       "      <td>[How, to, Rewire, Your, Brain, And, Vision]</td>\n",
       "      <td>7</td>\n",
       "      <td>[3, 2, 6, 4, 5, 3, 6]</td>\n",
       "    </tr>\n",
       "    <tr>\n",
       "      <th>5</th>\n",
       "      <td>أقوى فيلم اكشن لسنة 2018 'ولد ليقاتل' مترجم و بجودة عالية</td>\n",
       "      <td>[أقوى, فيلم, اكشن, لسنة, 2018, ولد, ليقاتل, مترجم, و, بجودة, عالية]</td>\n",
       "      <td>11</td>\n",
       "      <td>[4, 4, 4, 4, 4, 3, 6, 5, 1, 5, 5]</td>\n",
       "    </tr>\n",
       "  </tbody>\n",
       "</table>\n",
       "</div>"
      ],
      "text/plain": [
       "                                                       title  \\\n",
       "4                       How to Rewire Your Brain--And Vision   \n",
       "5  أقوى فيلم اكشن لسنة 2018 'ولد ليقاتل' مترجم و بجودة عالية   \n",
       "\n",
       "                                                           title_words  title_words_count  \\\n",
       "4                          [How, to, Rewire, Your, Brain, And, Vision]                  7   \n",
       "5  [أقوى, فيلم, اكشن, لسنة, 2018, ولد, ليقاتل, مترجم, و, بجودة, عالية]                 11   \n",
       "\n",
       "              lengths_of_title_words  \n",
       "4              [3, 2, 6, 4, 5, 3, 6]  \n",
       "5  [4, 4, 4, 4, 4, 3, 6, 5, 1, 5, 5]  "
      ]
     },
     "execution_count": 60,
     "metadata": {},
     "output_type": "execute_result"
    }
   ],
   "source": [
    "fin_df[fin_df['title_words_count'] > 0][['title', 'title_words', 'title_words_count', 'lengths_of_title_words']].head(2)"
   ]
  },
  {
   "cell_type": "markdown",
   "metadata": {},
   "source": [
    "тексты ограничиваются 20-ю предложениями"
   ]
  },
  {
   "cell_type": "code",
   "execution_count": 347,
   "metadata": {
    "scrolled": false
   },
   "outputs": [
    {
     "data": {
      "text/plain": [
       "<matplotlib.axes._subplots.AxesSubplot at 0x7f48be0759e8>"
      ]
     },
     "execution_count": 347,
     "metadata": {},
     "output_type": "execute_result"
    },
    {
     "data": {
      "image/png": "[encoded data removed]",
      "text/plain": [
       "<Figure size 720x576 with 1 Axes>"
      ]
     },
     "metadata": {
      "needs_background": "light"
     },
     "output_type": "display_data"
    }
   ],
   "source": [
    "plt.figure(figsize=(10,8))\n",
    "sns.distplot(fin_df[fin_df['text_sentences_count']>0]['text_sentences_count'])"
   ]
  },
  {
   "cell_type": "code",
   "execution_count": 77,
   "metadata": {},
   "outputs": [
    {
     "data": {
      "text/plain": [
       "<matplotlib.axes._subplots.AxesSubplot at 0x7f48c648fbe0>"
      ]
     },
     "execution_count": 77,
     "metadata": {},
     "output_type": "execute_result"
    },
    {
     "data": {
      "image/png": "[encoded data removed]",
      "text/plain": [
       "<Figure size 432x288 with 1 Axes>"
      ]
     },
     "metadata": {
      "needs_background": "light"
     },
     "output_type": "display_data"
    }
   ],
   "source": [
    "sns.boxplot(data=fin_df[['text_words_count']], orient='v', showfliers=False, width=0.3)"
   ]
  },
  {
   "cell_type": "markdown",
   "metadata": {},
   "source": [
    "в заголовках до 20 слов, в основном 10"
   ]
  },
  {
   "cell_type": "code",
   "execution_count": 76,
   "metadata": {},
   "outputs": [
    {
     "data": {
      "text/plain": [
       "<matplotlib.axes._subplots.AxesSubplot at 0x7f48c647ec88>"
      ]
     },
     "execution_count": 76,
     "metadata": {},
     "output_type": "execute_result"
    },
    {
     "data": {
      "image/png": "[encoded data removed]",
      "text/plain": [
       "<Figure size 432x288 with 1 Axes>"
      ]
     },
     "metadata": {
      "needs_background": "light"
     },
     "output_type": "display_data"
    }
   ],
   "source": [
    "sns.boxplot(data=fin_df[fin_df['title_words_count'] > 0][['title_words_count']], orient='v', \n",
    "            showfliers=False, width=0.3)"
   ]
  },
  {
   "cell_type": "markdown",
   "metadata": {},
   "source": [
    "### в заголовках слова используются чуть длиннее, чем в текстах\n",
    "это мб связано с тем, что тексты написаны простым языком, а заголовки \"умным\" "
   ]
  },
  {
   "cell_type": "code",
   "execution_count": null,
   "metadata": {},
   "outputs": [],
   "source": [
    "%%time # не дождалась! плохой способ, тк каждый раз аллоцируется память для нового списка => n переаллокаций\n",
    "\n",
    "lengths_of_text_words = reduce(lambda x, y: x + y, fin_df['lengths_of_text_words'].values)"
   ]
  },
  {
   "cell_type": "code",
   "execution_count": 60,
   "metadata": {},
   "outputs": [
    {
     "name": "stdout",
     "output_type": "stream",
     "text": [
      "CPU times: user 72.9 ms, sys: 16 ms, total: 88.9 ms\n",
      "Wall time: 87.8 ms\n"
     ]
    }
   ],
   "source": [
    "%%time \n",
    "# < 1 сек! начинается аллокация с 8 элементами, как только не влезает, то переаллоцируется на 12 элементов, \n",
    "# потом 20, 100, 200, 500 и тд => log(n) переаллокаций\n",
    "\n",
    "text_word_lens = []\n",
    "for ws in fin_df['lengths_of_text_words'].values:\n",
    "    text_word_lens += ws\n",
    "    \n",
    "title_word_lens = []\n",
    "for ws in fin_df['lengths_of_title_words'].values:\n",
    "    title_word_lens += ws"
   ]
  },
  {
   "cell_type": "code",
   "execution_count": 105,
   "metadata": {},
   "outputs": [
    {
     "data": {
      "text/plain": [
       "<matplotlib.axes._subplots.AxesSubplot at 0x7f48c63ef9e8>"
      ]
     },
     "execution_count": 105,
     "metadata": {},
     "output_type": "execute_result"
    },
    {
     "data": {
      "image/png": "[encoded data removed]",
      "text/plain": [
       "<Figure size 432x288 with 1 Axes>"
      ]
     },
     "metadata": {
      "needs_background": "light"
     },
     "output_type": "display_data"
    }
   ],
   "source": [
    "sns.boxplot(data=[text_word_lens, title_word_lens], orient='v', \n",
    "            showfliers=False, width=0.3)"
   ]
  },
  {
   "cell_type": "markdown",
   "metadata": {},
   "source": [
    "### предложение считать популярными посты, у которых скор > (mean + std)\n",
    "в данном случае 13 + 59 = 72\n"
   ]
  },
  {
   "cell_type": "code",
   "execution_count": 214,
   "metadata": {},
   "outputs": [
    {
     "name": "stdout",
     "output_type": "stream",
     "text": [
      "null score \t3.344316817048009%\n",
      "mean score \t13.361997005129512\n",
      "std \t\t59.22087463294035\n"
     ]
    }
   ],
   "source": [
    "print('null score \\t{}%'.format(fin_df[(fin_df['type']=='story')].score.isnull().mean() * 100))\n",
    "print('mean score \\t{}'.format(fin_df[(fin_df['type']=='story')].score.mean() ))\n",
    "print('std \\t\\t{}'.format(fin_df[(fin_df['type']=='story')].score.std() ))"
   ]
  },
  {
   "cell_type": "code",
   "execution_count": 309,
   "metadata": {},
   "outputs": [
    {
     "data": {
      "text/plain": [
       "<matplotlib.axes._subplots.AxesSubplot at 0x7f48bf2e08d0>"
      ]
     },
     "execution_count": 309,
     "metadata": {},
     "output_type": "execute_result"
    },
    {
     "data": {
      "image/png": "[encoded data removed]",
      "text/plain": [
       "<Figure size 432x288 with 1 Axes>"
      ]
     },
     "metadata": {
      "needs_background": "light"
     },
     "output_type": "display_data"
    }
   ],
   "source": [
    "fin_df[(fin_df['type']=='story') & (fin_df['score'] > 72)].score.fillna(-0.5).hist(bins=100)"
   ]
  },
  {
   "cell_type": "markdown",
   "metadata": {},
   "source": [
    "### топ хостов в мае 2018"
   ]
  },
  {
   "cell_type": "code",
   "execution_count": 61,
   "metadata": {},
   "outputs": [],
   "source": [
    "fin_df['netloc'] = fin_df['url'].fillna('').apply(lambda x: urllib.parse.urlparse(x).netloc)"
   ]
  },
  {
   "cell_type": "code",
   "execution_count": 220,
   "metadata": {
    "scrolled": true
   },
   "outputs": [
    {
     "data": {
      "text/html": [
       "<div>\n",
       "<style scoped>\n",
       "    .dataframe tbody tr th:only-of-type {\n",
       "        vertical-align: middle;\n",
       "    }\n",
       "\n",
       "    .dataframe tbody tr th {\n",
       "        vertical-align: top;\n",
       "    }\n",
       "\n",
       "    .dataframe thead th {\n",
       "        text-align: right;\n",
       "    }\n",
       "</style>\n",
       "<table border=\"1\" class=\"dataframe\">\n",
       "  <thead>\n",
       "    <tr style=\"text-align: right;\">\n",
       "      <th></th>\n",
       "      <th>index</th>\n",
       "      <th>posts_count</th>\n",
       "    </tr>\n",
       "  </thead>\n",
       "  <tbody>\n",
       "    <tr>\n",
       "      <th>0</th>\n",
       "      <td></td>\n",
       "      <td>208110</td>\n",
       "    </tr>\n",
       "    <tr>\n",
       "      <th>1</th>\n",
       "      <td>medium.com</td>\n",
       "      <td>1583</td>\n",
       "    </tr>\n",
       "    <tr>\n",
       "      <th>2</th>\n",
       "      <td>github.com</td>\n",
       "      <td>1143</td>\n",
       "    </tr>\n",
       "    <tr>\n",
       "      <th>3</th>\n",
       "      <td>www.youtube.com</td>\n",
       "      <td>670</td>\n",
       "    </tr>\n",
       "    <tr>\n",
       "      <th>4</th>\n",
       "      <td>www.nytimes.com</td>\n",
       "      <td>414</td>\n",
       "    </tr>\n",
       "    <tr>\n",
       "      <th>5</th>\n",
       "      <td>prepareforjob.in</td>\n",
       "      <td>383</td>\n",
       "    </tr>\n",
       "    <tr>\n",
       "      <th>6</th>\n",
       "      <td>techcrunch.com</td>\n",
       "      <td>337</td>\n",
       "    </tr>\n",
       "    <tr>\n",
       "      <th>7</th>\n",
       "      <td>www.theguardian.com</td>\n",
       "      <td>313</td>\n",
       "    </tr>\n",
       "    <tr>\n",
       "      <th>8</th>\n",
       "      <td>www.bloomberg.com</td>\n",
       "      <td>309</td>\n",
       "    </tr>\n",
       "    <tr>\n",
       "      <th>9</th>\n",
       "      <td>arstechnica.com</td>\n",
       "      <td>262</td>\n",
       "    </tr>\n",
       "  </tbody>\n",
       "</table>\n",
       "</div>"
      ],
      "text/plain": [
       "                 index  posts_count\n",
       "0                            208110\n",
       "1           medium.com         1583\n",
       "2           github.com         1143\n",
       "3      www.youtube.com          670\n",
       "4      www.nytimes.com          414\n",
       "5     prepareforjob.in          383\n",
       "6       techcrunch.com          337\n",
       "7  www.theguardian.com          313\n",
       "8    www.bloomberg.com          309\n",
       "9      arstechnica.com          262"
      ]
     },
     "execution_count": 220,
     "metadata": {},
     "output_type": "execute_result"
    }
   ],
   "source": [
    "fin_df['netloc'].value_counts().reset_index(name='posts_count').head(10)"
   ]
  },
  {
   "cell_type": "markdown",
   "metadata": {},
   "source": [
    "### топ авторов в мае 2018"
   ]
  },
  {
   "cell_type": "code",
   "execution_count": 225,
   "metadata": {},
   "outputs": [
    {
     "data": {
      "text/html": [
       "<div>\n",
       "<style scoped>\n",
       "    .dataframe tbody tr th:only-of-type {\n",
       "        vertical-align: middle;\n",
       "    }\n",
       "\n",
       "    .dataframe tbody tr th {\n",
       "        vertical-align: top;\n",
       "    }\n",
       "\n",
       "    .dataframe thead th {\n",
       "        text-align: right;\n",
       "    }\n",
       "</style>\n",
       "<table border=\"1\" class=\"dataframe\">\n",
       "  <thead>\n",
       "    <tr style=\"text-align: right;\">\n",
       "      <th></th>\n",
       "      <th>index</th>\n",
       "      <th>posts_count</th>\n",
       "    </tr>\n",
       "  </thead>\n",
       "  <tbody>\n",
       "    <tr>\n",
       "      <th>0</th>\n",
       "      <td>rbanffy</td>\n",
       "      <td>668</td>\n",
       "    </tr>\n",
       "    <tr>\n",
       "      <th>1</th>\n",
       "      <td>raleighm</td>\n",
       "      <td>323</td>\n",
       "    </tr>\n",
       "    <tr>\n",
       "      <th>2</th>\n",
       "      <td>tosh</td>\n",
       "      <td>229</td>\n",
       "    </tr>\n",
       "    <tr>\n",
       "      <th>3</th>\n",
       "      <td>godelmachine</td>\n",
       "      <td>199</td>\n",
       "    </tr>\n",
       "    <tr>\n",
       "      <th>4</th>\n",
       "      <td>jonbaer</td>\n",
       "      <td>197</td>\n",
       "    </tr>\n",
       "    <tr>\n",
       "      <th>5</th>\n",
       "      <td>ingve</td>\n",
       "      <td>179</td>\n",
       "    </tr>\n",
       "    <tr>\n",
       "      <th>6</th>\n",
       "      <td>dsr12</td>\n",
       "      <td>150</td>\n",
       "    </tr>\n",
       "    <tr>\n",
       "      <th>7</th>\n",
       "      <td>dulo</td>\n",
       "      <td>149</td>\n",
       "    </tr>\n",
       "    <tr>\n",
       "      <th>8</th>\n",
       "      <td>john58</td>\n",
       "      <td>143</td>\n",
       "    </tr>\n",
       "    <tr>\n",
       "      <th>9</th>\n",
       "      <td>Tomte</td>\n",
       "      <td>137</td>\n",
       "    </tr>\n",
       "  </tbody>\n",
       "</table>\n",
       "</div>"
      ],
      "text/plain": [
       "          index  posts_count\n",
       "0       rbanffy          668\n",
       "1      raleighm          323\n",
       "2          tosh          229\n",
       "3  godelmachine          199\n",
       "4       jonbaer          197\n",
       "5         ingve          179\n",
       "6         dsr12          150\n",
       "7          dulo          149\n",
       "8        john58          143\n",
       "9         Tomte          137"
      ]
     },
     "execution_count": 225,
     "metadata": {},
     "output_type": "execute_result"
    }
   ],
   "source": [
    "fin_df[fin_df['type']=='story']['by'].value_counts().reset_index(name='posts_count').head(10)"
   ]
  },
  {
   "cell_type": "markdown",
   "metadata": {},
   "source": [
    "лидеры публиковали более 10 постов в день"
   ]
  },
  {
   "cell_type": "markdown",
   "metadata": {},
   "source": [
    "### топ комментаторов в мае 2018"
   ]
  },
  {
   "cell_type": "code",
   "execution_count": 226,
   "metadata": {},
   "outputs": [
    {
     "data": {
      "text/html": [
       "<div>\n",
       "<style scoped>\n",
       "    .dataframe tbody tr th:only-of-type {\n",
       "        vertical-align: middle;\n",
       "    }\n",
       "\n",
       "    .dataframe tbody tr th {\n",
       "        vertical-align: top;\n",
       "    }\n",
       "\n",
       "    .dataframe thead th {\n",
       "        text-align: right;\n",
       "    }\n",
       "</style>\n",
       "<table border=\"1\" class=\"dataframe\">\n",
       "  <thead>\n",
       "    <tr style=\"text-align: right;\">\n",
       "      <th></th>\n",
       "      <th>index</th>\n",
       "      <th>posts_count</th>\n",
       "    </tr>\n",
       "  </thead>\n",
       "  <tbody>\n",
       "    <tr>\n",
       "      <th>0</th>\n",
       "      <td>jacquesm</td>\n",
       "      <td>786</td>\n",
       "    </tr>\n",
       "    <tr>\n",
       "      <th>1</th>\n",
       "      <td>icebraining</td>\n",
       "      <td>547</td>\n",
       "    </tr>\n",
       "    <tr>\n",
       "      <th>2</th>\n",
       "      <td>dragonwriter</td>\n",
       "      <td>546</td>\n",
       "    </tr>\n",
       "    <tr>\n",
       "      <th>3</th>\n",
       "      <td>pjmlp</td>\n",
       "      <td>428</td>\n",
       "    </tr>\n",
       "    <tr>\n",
       "      <th>4</th>\n",
       "      <td>dang</td>\n",
       "      <td>425</td>\n",
       "    </tr>\n",
       "    <tr>\n",
       "      <th>5</th>\n",
       "      <td>gowld</td>\n",
       "      <td>423</td>\n",
       "    </tr>\n",
       "    <tr>\n",
       "      <th>6</th>\n",
       "      <td>s73v3r_</td>\n",
       "      <td>419</td>\n",
       "    </tr>\n",
       "    <tr>\n",
       "      <th>7</th>\n",
       "      <td>TeMPOraL</td>\n",
       "      <td>405</td>\n",
       "    </tr>\n",
       "    <tr>\n",
       "      <th>8</th>\n",
       "      <td>scarface74</td>\n",
       "      <td>401</td>\n",
       "    </tr>\n",
       "    <tr>\n",
       "      <th>9</th>\n",
       "      <td>tptacek</td>\n",
       "      <td>351</td>\n",
       "    </tr>\n",
       "  </tbody>\n",
       "</table>\n",
       "</div>"
      ],
      "text/plain": [
       "          index  posts_count\n",
       "0      jacquesm          786\n",
       "1   icebraining          547\n",
       "2  dragonwriter          546\n",
       "3         pjmlp          428\n",
       "4          dang          425\n",
       "5         gowld          423\n",
       "6       s73v3r_          419\n",
       "7      TeMPOraL          405\n",
       "8    scarface74          401\n",
       "9       tptacek          351"
      ]
     },
     "execution_count": 226,
     "metadata": {},
     "output_type": "execute_result"
    }
   ],
   "source": [
    "fin_df[fin_df['type']=='comment']['by'].value_counts().reset_index(name='posts_count').head(10)"
   ]
  },
  {
   "cell_type": "markdown",
   "metadata": {},
   "source": [
    "### статистики по деревьям: \n",
    "* степень вершин (количество комментариев), \n",
    "* глубина (длинна цепочки связей), \n",
    "* кол-во всех детей и детей детей (количетсво всех коментариев внизу)"
   ]
  },
  {
   "cell_type": "markdown",
   "metadata": {},
   "source": [
    "### количество комментариев у стори: в 80% случаев комментариев нет\n",
    "в остальных 20: 1-2 комментрия, но возможно это из-за малого количества времени, которе посты полежали на сайте"
   ]
  },
  {
   "cell_type": "code",
   "execution_count": 62,
   "metadata": {},
   "outputs": [],
   "source": [
    "fin_df = pd.merge(fin_df, fin_df['parent'].value_counts().reset_index(name='kids_count'),\n",
    "         left_on='id', right_on='index', how='left')\n",
    "fin_df['kids_count'].fillna(0, inplace=True)"
   ]
  },
  {
   "cell_type": "code",
   "execution_count": 189,
   "metadata": {},
   "outputs": [
    {
     "data": {
      "text/plain": [
       "0.8004188094724848"
      ]
     },
     "execution_count": 189,
     "metadata": {},
     "output_type": "execute_result"
    }
   ],
   "source": [
    "fin_df[(fin_df['type']=='story')&(fin_df['kids_count']==0)].shape[0] / fin_df[(fin_df['type']=='story')].shape[0]"
   ]
  },
  {
   "cell_type": "code",
   "execution_count": 316,
   "metadata": {},
   "outputs": [
    {
     "data": {
      "text/plain": [
       "<matplotlib.axes._subplots.AxesSubplot at 0x7f48bf142e80>"
      ]
     },
     "execution_count": 316,
     "metadata": {},
     "output_type": "execute_result"
    },
    {
     "data": {
      "image/png": "[encoded data removed]",
      "text/plain": [
       "<Figure size 432x288 with 1 Axes>"
      ]
     },
     "metadata": {
      "needs_background": "light"
     },
     "output_type": "display_data"
    }
   ],
   "source": [
    "sns.countplot(fin_df[(fin_df['type']=='story')&(fin_df['kids_count'] > 0)&(fin_df['kids_count'] <= 5)]\\\n",
    "    ['kids_count'])"
   ]
  },
  {
   "cell_type": "code",
   "execution_count": 314,
   "metadata": {},
   "outputs": [
    {
     "data": {
      "text/plain": [
       "<matplotlib.axes._subplots.AxesSubplot at 0x7f48bf2362b0>"
      ]
     },
     "execution_count": 314,
     "metadata": {},
     "output_type": "execute_result"
    },
    {
     "data": {
      "image/png": "[encoded data removed]",
      "text/plain": [
       "<Figure size 432x288 with 1 Axes>"
      ]
     },
     "metadata": {
      "needs_background": "light"
     },
     "output_type": "display_data"
    }
   ],
   "source": [
    "fin_df[(fin_df['type']=='story')&(fin_df['kids_count'] > 5)&(fin_df['kids_count'] < 100)]['kids_count'].hist(bins=40)"
   ]
  },
  {
   "cell_type": "markdown",
   "metadata": {},
   "source": [
    "### длины цепочек"
   ]
  },
  {
   "cell_type": "code",
   "execution_count": 23,
   "metadata": {},
   "outputs": [
    {
     "data": {
      "text/html": [
       "<div>\n",
       "<style scoped>\n",
       "    .dataframe tbody tr th:only-of-type {\n",
       "        vertical-align: middle;\n",
       "    }\n",
       "\n",
       "    .dataframe tbody tr th {\n",
       "        vertical-align: top;\n",
       "    }\n",
       "\n",
       "    .dataframe thead th {\n",
       "        text-align: right;\n",
       "    }\n",
       "</style>\n",
       "<table border=\"1\" class=\"dataframe\">\n",
       "  <thead>\n",
       "    <tr style=\"text-align: right;\">\n",
       "      <th></th>\n",
       "      <th>id</th>\n",
       "      <th>kids</th>\n",
       "    </tr>\n",
       "  </thead>\n",
       "  <tbody>\n",
       "    <tr>\n",
       "      <th>0</th>\n",
       "      <td>16963601</td>\n",
       "      <td>NaN</td>\n",
       "    </tr>\n",
       "    <tr>\n",
       "      <th>1</th>\n",
       "      <td>16963602</td>\n",
       "      <td>[16964110]</td>\n",
       "    </tr>\n",
       "  </tbody>\n",
       "</table>\n",
       "</div>"
      ],
      "text/plain": [
       "         id        kids\n",
       "0  16963601         NaN\n",
       "1  16963602  [16964110]"
      ]
     },
     "execution_count": 23,
     "metadata": {},
     "output_type": "execute_result"
    }
   ],
   "source": [
    "fin_df[['id', 'kids']].head(2)"
   ]
  },
  {
   "cell_type": "code",
   "execution_count": 83,
   "metadata": {},
   "outputs": [],
   "source": [
    "tree = {}\n",
    "\n",
    "for node_id, node_children_list in fin_df.loc[:, ['id', 'kids']].values:\n",
    "    if node_children_list is None or isinstance(node_children_list, float):\n",
    "        node_children_list = []\n",
    "    tree[node_id] = list(node_children_list)"
   ]
  },
  {
   "cell_type": "code",
   "execution_count": 84,
   "metadata": {},
   "outputs": [],
   "source": [
    "@lru_cache(maxsize=None)\n",
    "def height(node):\n",
    "    if node not in tree or not tree[node]:\n",
    "        return 0\n",
    "    \n",
    "    return 1 + max(map(height, tree[node]))\n",
    "\n",
    "heights = {node: height(node) for node in tree}"
   ]
  },
  {
   "cell_type": "code",
   "execution_count": 85,
   "metadata": {},
   "outputs": [],
   "source": [
    "@lru_cache(maxsize=None)\n",
    "def count_all_commemts(node):\n",
    "    if node not in tree or not tree[node]:\n",
    "        return 0\n",
    "    \n",
    "    return len(tree[node]) + sum(map(count_all_commemts, tree[node]))\n",
    "\n",
    "commemts_count = {node: count_all_commemts(node) for node in tree}"
   ]
  },
  {
   "cell_type": "code",
   "execution_count": 86,
   "metadata": {},
   "outputs": [],
   "source": [
    "fin_df['height'] = fin_df['id'].map(heights)\n",
    "fin_df['commemts_count'] = fin_df['id'].map(commemts_count)"
   ]
  },
  {
   "cell_type": "code",
   "execution_count": 87,
   "metadata": {
    "scrolled": false
   },
   "outputs": [
    {
     "data": {
      "text/plain": [
       "<matplotlib.axes._subplots.AxesSubplot at 0x7fb46fe4be10>"
      ]
     },
     "execution_count": 87,
     "metadata": {},
     "output_type": "execute_result"
    },
    {
     "data": {
      "image/png": "[encoded data removed]",
      "text/plain": [
       "<Figure size 432x288 with 1 Axes>"
      ]
     },
     "metadata": {
      "needs_background": "light"
     },
     "output_type": "display_data"
    }
   ],
   "source": [
    "sns.countplot(fin_df[fin_df['height']>0]['height'])"
   ]
  },
  {
   "cell_type": "markdown",
   "metadata": {},
   "source": [
    "### суммарное количество всех комментов под стори"
   ]
  },
  {
   "cell_type": "code",
   "execution_count": 88,
   "metadata": {
    "scrolled": true
   },
   "outputs": [
    {
     "data": {
      "text/plain": [
       "<matplotlib.axes._subplots.AxesSubplot at 0x7fb4612e0978>"
      ]
     },
     "execution_count": 88,
     "metadata": {},
     "output_type": "execute_result"
    },
    {
     "data": {
      "image/png": "[encoded data removed]",
      "text/plain": [
       "<Figure size 432x288 with 1 Axes>"
      ]
     },
     "metadata": {
      "needs_background": "light"
     },
     "output_type": "display_data"
    }
   ],
   "source": [
    "sns.boxplot(fin_df[(fin_df['commemts_count']>0)&(fin_df['type']=='story')]['commemts_count'], showfliers=False, orient='v', width=0.3)"
   ]
  },
  {
   "cell_type": "code",
   "execution_count": 89,
   "metadata": {},
   "outputs": [],
   "source": [
    "from scipy import stats"
   ]
  },
  {
   "cell_type": "code",
   "execution_count": 90,
   "metadata": {},
   "outputs": [],
   "source": [
    "rc_bc, bc_params = stats.boxcox(fin_df[fin_df['height']>0]['height'])"
   ]
  },
  {
   "cell_type": "code",
   "execution_count": 91,
   "metadata": {},
   "outputs": [
    {
     "data": {
      "text/plain": [
       "array([0.56524296, 0.        , 0.        , ..., 0.        , 0.        ,\n",
       "       0.        ])"
      ]
     },
     "execution_count": 91,
     "metadata": {},
     "output_type": "execute_result"
    }
   ],
   "source": [
    "rc_bc"
   ]
  },
  {
   "cell_type": "code",
   "execution_count": 92,
   "metadata": {},
   "outputs": [
    {
     "data": {
      "text/plain": [
       "-0.6100458404955701"
      ]
     },
     "execution_count": 92,
     "metadata": {},
     "output_type": "execute_result"
    }
   ],
   "source": [
    "bc_params"
   ]
  },
  {
   "cell_type": "code",
   "execution_count": 93,
   "metadata": {},
   "outputs": [
    {
     "data": {
      "text/plain": [
       "((array([-4.35165784, -4.15312745, -4.04515403, ...,  4.04515403,\n",
       "          4.15312745,  4.35165784]),\n",
       "  array([0.        , 0.        , 0.        , ..., 1.40916694, 1.40916694,\n",
       "         1.41460599])),\n",
       " (0.386909541137142, 0.444345517016673, 0.9071941580627643))"
      ]
     },
     "execution_count": 93,
     "metadata": {},
     "output_type": "execute_result"
    },
    {
     "data": {
      "image/png": "[encoded data removed]",
      "text/plain": [
       "<Figure size 432x288 with 1 Axes>"
      ]
     },
     "metadata": {
      "needs_background": "light"
     },
     "output_type": "display_data"
    }
   ],
   "source": [
    "a, ax1 = plt.subplots()\n",
    "stats.probplot(rc_bc, dist=stats.norm, plot=ax1)"
   ]
  },
  {
   "cell_type": "code",
   "execution_count": 94,
   "metadata": {},
   "outputs": [
    {
     "data": {
      "text/plain": [
       "((array([ 0.,  0.,  0., ..., 10., 10., 11.]),\n",
       "  array([0.        , 0.        , 0.        , ..., 1.40916694, 1.40916694,\n",
       "         1.41460599])),\n",
       " (0.2775579888158776, -0.11076505028616768, 0.9203673507233375))"
      ]
     },
     "execution_count": 94,
     "metadata": {},
     "output_type": "execute_result"
    },
    {
     "data": {
      "image/png": "[encoded data removed]",
      "text/plain": [
       "<Figure size 432x288 with 1 Axes>"
      ]
     },
     "metadata": {
      "needs_background": "light"
     },
     "output_type": "display_data"
    }
   ],
   "source": [
    "a, ax1 = plt.subplots()\n",
    "stats.probplot(rc_bc, dist=stats.poisson(2), plot=ax1)"
   ]
  },
  {
   "cell_type": "code",
   "execution_count": null,
   "metadata": {},
   "outputs": [],
   "source": []
  }
 ],
 "metadata": {
  "kernelspec": {
   "display_name": "Python 3",
   "language": "python",
   "name": "python3"
  },
  "language_info": {
   "codemirror_mode": {
    "name": "ipython",
    "version": 3
   },
   "file_extension": ".py",
   "mimetype": "text/x-python",
   "name": "python",
   "nbconvert_exporter": "python",
   "pygments_lexer": "ipython3",
   "version": "3.5.2"
  }
 },
 "nbformat": 4,
 "nbformat_minor": 2
}
