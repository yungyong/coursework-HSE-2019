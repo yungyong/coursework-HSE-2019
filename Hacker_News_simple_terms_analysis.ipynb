{
 "cells": [
  {
   "cell_type": "code",
   "execution_count": 1,
   "metadata": {},
   "outputs": [],
   "source": [
    "import pandas as pd\n",
    "import numpy as np\n",
    "\n",
    "import re\n",
    "\n",
    "from plotly.offline import download_plotlyjs, init_notebook_mode, plot, iplot\n",
    "import matplotlib.pyplot as plt\n",
    "import seaborn as sns\n",
    "\n",
    "import nltk\n",
    "from nltk.tokenize import word_tokenize, sent_tokenize, RegexpTokenizer\n",
    "\n",
    "from collections import Counter, defaultdict\n",
    "from functools import lru_cache, reduce\n",
    "from itertools import chain, combinations\n",
    "\n",
    "import tqdm"
   ]
  },
  {
   "cell_type": "code",
   "execution_count": 2,
   "metadata": {},
   "outputs": [
    {
     "data": {
      "text/html": [
       "<script type=\"text/javascript\">window.PlotlyConfig = {MathJaxConfig: 'local'};</script><script type=\"text/javascript\">if (window.MathJax) {MathJax.Hub.Config({SVG: {font: \"STIX-Web\"}});}</script><script>requirejs.config({paths: { 'plotly': ['https://cdn.plot.ly/plotly-latest.min']},});if(!window._Plotly) {require(['plotly'],function(plotly) {window._Plotly=plotly;});}</script>"
      ],
      "text/vnd.plotly.v1+html": [
       "<script type=\"text/javascript\">window.PlotlyConfig = {MathJaxConfig: 'local'};</script><script type=\"text/javascript\">if (window.MathJax) {MathJax.Hub.Config({SVG: {font: \"STIX-Web\"}});}</script><script>requirejs.config({paths: { 'plotly': ['https://cdn.plot.ly/plotly-latest.min']},});if(!window._Plotly) {require(['plotly'],function(plotly) {window._Plotly=plotly;});}</script>"
      ]
     },
     "metadata": {},
     "output_type": "display_data"
    }
   ],
   "source": [
    "pd.options.display.max_colwidth = 100\n",
    "pd.options.display.max_columns = 300\n",
    "\n",
    "init_notebook_mode(connected=True)"
   ]
  },
  {
   "cell_type": "markdown",
   "metadata": {},
   "source": [
    "## здесь термины -  ЯП с вики \n",
    "\n",
    "https://en.wikipedia.org/wiki/List_of_programming_languages"
   ]
  },
  {
   "cell_type": "code",
   "execution_count": 5,
   "metadata": {
    "ExecuteTime": {
     "end_time": "2018-12-24T03:41:44.524243Z",
     "start_time": "2018-12-24T03:41:44.486779Z"
    }
   },
   "outputs": [],
   "source": [
    "languages = open('data/programming_languages.txt').read().split('\\n')"
   ]
  },
  {
   "cell_type": "code",
   "execution_count": 3,
   "metadata": {},
   "outputs": [],
   "source": [
    "fin_df = pd.read_csv('./data/df_hni_2018_05.csv', low_memory=False)\n",
    "\n",
    "# read lists from csv\n",
    "for list_col in \\\n",
    "    ['text_sentences', 'text_words', 'title_words', 'lengths_of_text_words', 'lengths_of_title_words']:\n",
    "    fin_df[list_col] = fin_df[list_col].apply(eval)"
   ]
  },
  {
   "cell_type": "code",
   "execution_count": 4,
   "metadata": {},
   "outputs": [],
   "source": [
    "def which_tech(words, techs):\n",
    "    return set(words) & techs"
   ]
  },
  {
   "cell_type": "code",
   "execution_count": 7,
   "metadata": {},
   "outputs": [],
   "source": [
    "fin_df['all_words'] = fin_df['text_words']  + fin_df['title_words']\n",
    "fin_df['languages'] = fin_df['all_words'].apply(lambda x: which_tech(x, languages))"
   ]
  },
  {
   "cell_type": "markdown",
   "metadata": {},
   "source": [
    "### ЯП для 90% записей не сматчились"
   ]
  },
  {
   "cell_type": "code",
   "execution_count": 8,
   "metadata": {},
   "outputs": [
    {
     "data": {
      "text/plain": [
       "0.9089780598032368"
      ]
     },
     "execution_count": 8,
     "metadata": {},
     "output_type": "execute_result"
    }
   ],
   "source": [
    "(fin_df['languages'] == set()).mean()"
   ]
  },
  {
   "cell_type": "code",
   "execution_count": 9,
   "metadata": {},
   "outputs": [],
   "source": [
    "langs_pop = Counter(fin_df['languages'].apply(lambda x: list(x)).sum())"
   ]
  },
  {
   "cell_type": "code",
   "execution_count": 10,
   "metadata": {},
   "outputs": [
    {
     "data": {
      "text/plain": [
       "[('C', 3514),\n",
       " ('Python', 2051),\n",
       " ('Java', 1372),\n",
       " ('Go', 1354),\n",
       " ('S', 1329),\n",
       " ('JavaScript', 1048),\n",
       " ('D', 954),\n",
       " ('Rust', 909),\n",
       " ('B', 865),\n",
       " ('E', 732)]"
      ]
     },
     "execution_count": 10,
     "metadata": {},
     "output_type": "execute_result"
    }
   ],
   "source": [
    "langs_pop.most_common(10)"
   ]
  },
  {
   "cell_type": "code",
   "execution_count": 11,
   "metadata": {},
   "outputs": [
    {
     "data": {
      "text/plain": [
       "array([\"Who's supplying the gigabit fiber connectivity, out there?<p>P.S.  Answered my own question.  Information may be out of date, but quite limited coverage residential plans from a couple of companies, and somewhat more but still limited coverage from a few companies business class offers.<p>Wish I had that many choices.  ATT finally dropped a fiber line into our neighborhood, but it's not hooked up yet.  Given what Comcast is doing to its cable Internet pricing, here, I'm a bit afraid to see the pricing ATT will offer us.  By contrast, pricing out there looks significantly better.<p>Prior to this, our local copper trunk has been so old/deteriorated that DSL was marginal at best (they wouldn't sell it) and Uverse was a non-starter.<p>I might not want to be in Manhattan, KS, but I can think of some other towns -- maybe I need to look again.\"],\n",
       "      dtype=object)"
      ]
     },
     "execution_count": 11,
     "metadata": {},
     "output_type": "execute_result"
    }
   ],
   "source": [
    "fin_df.loc[498:498]['text'].values"
   ]
  },
  {
   "cell_type": "code",
   "execution_count": null,
   "metadata": {},
   "outputs": [],
   "source": [
    "fin_df[fin_df['languages'].apply(lambda x: x & {'S', 'D', 'E'} != set())][['languages', 'all_words']].head(4)"
   ]
  },
  {
   "cell_type": "markdown",
   "metadata": {},
   "source": [
    "### Самые очевидные ошибки, если матчить по словам через nltk"
   ]
  },
  {
   "cell_type": "markdown",
   "metadata": {},
   "source": [
    "* P.S. как ЯП\n",
    "* R&D как ЯП\n",
    "* теги < p >\n",
    "* C# -> C"
   ]
  },
  {
   "cell_type": "code",
   "execution_count": 12,
   "metadata": {},
   "outputs": [],
   "source": [
    "def text2tokens(text):\n",
    "    \n",
    "    # delete html tags & \"'s \" example: \"Python's \"\n",
    "    text = re.sub(r'<\\w+>', ' ', text)\n",
    "    text = re.sub(r'\\'s\\s', ' ', text)\n",
    "    \n",
    "    # to sentences\n",
    "    snts = re.split(r'[;\\.\\!\\?]', text)\n",
    "    # sentences to words\n",
    "    snts = list(map(lambda x: x.split(), snts))\n",
    "    # filter small sentences\n",
    "    snts = list(filter(lambda x: len(x) > 1, snts))\n",
    "    \n",
    "    # sentences to tokens\n",
    "    tokens = list(chain(*snts))\n",
    "    \n",
    "    # delete some punctuation on both sides of the words \n",
    "    safe_punctuation = re.escape('!\"\\'(),.:;?[\\\\]`{|}')\n",
    "    \n",
    "    tokens = list(map(lambda x: \n",
    "                  re.sub('(^[{p}]*|[{p}]*$)'.format(p=safe_punctuation), '', x), tokens))\n",
    "    return tokens"
   ]
  },
  {
   "cell_type": "code",
   "execution_count": 13,
   "metadata": {},
   "outputs": [],
   "source": [
    "fin_df['all_text'] = fin_df['text'].fillna('') + fin_df['title'].fillna('') \n",
    "fin_df['all_tokens'] = fin_df['all_text'].apply(text2tokens)\n",
    "\n",
    "fin_df['languages_2'] = fin_df['all_tokens'].apply(lambda x: which_tech(x, languages))"
   ]
  },
  {
   "cell_type": "code",
   "execution_count": 14,
   "metadata": {},
   "outputs": [
    {
     "data": {
      "text/html": [
       "<div>\n",
       "<style scoped>\n",
       "    .dataframe tbody tr th:only-of-type {\n",
       "        vertical-align: middle;\n",
       "    }\n",
       "\n",
       "    .dataframe tbody tr th {\n",
       "        vertical-align: top;\n",
       "    }\n",
       "\n",
       "    .dataframe thead th {\n",
       "        text-align: right;\n",
       "    }\n",
       "</style>\n",
       "<table border=\"1\" class=\"dataframe\">\n",
       "  <thead>\n",
       "    <tr style=\"text-align: right;\">\n",
       "      <th></th>\n",
       "      <th>by</th>\n",
       "      <th>dead</th>\n",
       "      <th>deleted</th>\n",
       "      <th>descendants</th>\n",
       "      <th>id</th>\n",
       "      <th>kids</th>\n",
       "      <th>parent</th>\n",
       "      <th>parts</th>\n",
       "      <th>poll</th>\n",
       "      <th>retrieved_on</th>\n",
       "      <th>score</th>\n",
       "      <th>text</th>\n",
       "      <th>time</th>\n",
       "      <th>title</th>\n",
       "      <th>type</th>\n",
       "      <th>url</th>\n",
       "      <th>text_sentences</th>\n",
       "      <th>text_words</th>\n",
       "      <th>title_words</th>\n",
       "      <th>text_words_count</th>\n",
       "      <th>title_words_count</th>\n",
       "      <th>text_sentences_count</th>\n",
       "      <th>lengths_of_text_words</th>\n",
       "      <th>lengths_of_title_words</th>\n",
       "      <th>netloc</th>\n",
       "      <th>techs</th>\n",
       "      <th>day</th>\n",
       "      <th>all_words</th>\n",
       "      <th>languages</th>\n",
       "      <th>all_text</th>\n",
       "      <th>all_tokens</th>\n",
       "      <th>languages_2</th>\n",
       "    </tr>\n",
       "  </thead>\n",
       "  <tbody>\n",
       "    <tr>\n",
       "      <th>7</th>\n",
       "      <td>yodon</td>\n",
       "      <td>NaN</td>\n",
       "      <td>NaN</td>\n",
       "      <td>NaN</td>\n",
       "      <td>16963608</td>\n",
       "      <td>[16966314]</td>\n",
       "      <td>16962948.0</td>\n",
       "      <td>NaN</td>\n",
       "      <td>NaN</td>\n",
       "      <td>1528401049</td>\n",
       "      <td>NaN</td>\n",
       "      <td>(Retyped is part of the Bridge.NET C# -&gt; JS/TypeScript converter)&lt;p&gt;It’s super exciting too see ...</td>\n",
       "      <td>1525132905</td>\n",
       "      <td>NaN</td>\n",
       "      <td>comment</td>\n",
       "      <td>NaN</td>\n",
       "      <td>[(Retyped is part of the Bridge.NET C# -&gt; JS/TypeScript converter)&lt;p&gt;It’s super exciting too see...</td>\n",
       "      <td>[Retyped, is, part, of, the, Bridge, NET, C, JS, TypeScript, converter, p, It, s, super, excitin...</td>\n",
       "      <td>[]</td>\n",
       "      <td>96</td>\n",
       "      <td>0</td>\n",
       "      <td>1</td>\n",
       "      <td>[7, 2, 4, 2, 3, 6, 3, 1, 2, 10, 9, 1, 2, 1, 5, 8, 3, 3, 6, 11, 3, 5, 2, 1, 5, 4, 8, 4, 1, 6, 3, ...</td>\n",
       "      <td>[]</td>\n",
       "      <td>NaN</td>\n",
       "      <td>{'TypeScript'}</td>\n",
       "      <td>2018-05-01</td>\n",
       "      <td>[Retyped, is, part, of, the, Bridge, NET, C, JS, TypeScript, converter, p, It, s, super, excitin...</td>\n",
       "      <td>{TypeScript, C}</td>\n",
       "      <td>(Retyped is part of the Bridge.NET C# -&gt; JS/TypeScript converter)&lt;p&gt;It’s super exciting too see ...</td>\n",
       "      <td>[Retyped, is, part, of, the, Bridge, NET, C#, -&gt;, JS/TypeScript, converter, It’s, super, excitin...</td>\n",
       "      <td>{TypeScript, C#}</td>\n",
       "    </tr>\n",
       "    <tr>\n",
       "      <th>18</th>\n",
       "      <td>dfox</td>\n",
       "      <td>NaN</td>\n",
       "      <td>NaN</td>\n",
       "      <td>NaN</td>\n",
       "      <td>16963619</td>\n",
       "      <td>NaN</td>\n",
       "      <td>16962096.0</td>\n",
       "      <td>NaN</td>\n",
       "      <td>NaN</td>\n",
       "      <td>1528401050</td>\n",
       "      <td>NaN</td>\n",
       "      <td>As for the solaris it is probably only UNIX where ignoring the ISO C rule that anything ending w...</td>\n",
       "      <td>1525133028</td>\n",
       "      <td>NaN</td>\n",
       "      <td>comment</td>\n",
       "      <td>NaN</td>\n",
       "      <td>[As for the solaris it is probably only UNIX where ignoring the ISO C rule that anything ending ...</td>\n",
       "      <td>[As, for, the, solaris, it, is, probably, only, UNIX, where, ignoring, the, ISO, C, rule, that, ...</td>\n",
       "      <td>[]</td>\n",
       "      <td>106</td>\n",
       "      <td>0</td>\n",
       "      <td>1</td>\n",
       "      <td>[2, 3, 3, 7, 2, 2, 8, 4, 4, 5, 8, 3, 3, 1, 4, 4, 8, 6, 4, 2, 2, 8, 3, 14, 4, 4, 3, 4, 2, 7, 4, 7...</td>\n",
       "      <td>[]</td>\n",
       "      <td>NaN</td>\n",
       "      <td>{'C'}</td>\n",
       "      <td>2018-05-01</td>\n",
       "      <td>[As, for, the, solaris, it, is, probably, only, UNIX, where, ignoring, the, ISO, C, rule, that, ...</td>\n",
       "      <td>{C}</td>\n",
       "      <td>As for the solaris it is probably only UNIX where ignoring the ISO C rule that anything ending w...</td>\n",
       "      <td>[As, for, the, solaris, it, is, probably, only, UNIX, where, ignoring, the, ISO, C, rule, that, ...</td>\n",
       "      <td>{C}</td>\n",
       "    </tr>\n",
       "    <tr>\n",
       "      <th>30</th>\n",
       "      <td>kazinator</td>\n",
       "      <td>NaN</td>\n",
       "      <td>NaN</td>\n",
       "      <td>NaN</td>\n",
       "      <td>16963631</td>\n",
       "      <td>NaN</td>\n",
       "      <td>16961549.0</td>\n",
       "      <td>NaN</td>\n",
       "      <td>NaN</td>\n",
       "      <td>1528401052</td>\n",
       "      <td>NaN</td>\n",
       "      <td>In TXR Lisp's FFI, I developed detailed support for bitfields, alignment and packing. You can co...</td>\n",
       "      <td>1525133240</td>\n",
       "      <td>NaN</td>\n",
       "      <td>comment</td>\n",
       "      <td>NaN</td>\n",
       "      <td>[In TXR Lisp's FFI, I developed detailed support for bitfields, alignment and packing., You can ...</td>\n",
       "      <td>[In, TXR, Lisp, s, FFI, I, developed, detailed, support, for, bitfields, alignment, and, packing...</td>\n",
       "      <td>[]</td>\n",
       "      <td>153</td>\n",
       "      <td>0</td>\n",
       "      <td>3</td>\n",
       "      <td>[2, 3, 4, 1, 3, 1, 9, 8, 7, 3, 9, 9, 3, 7, 3, 3, 6, 4, 3, 4, 2, 6, 4, 2, 6, 3, 2, 1, 8, 1, 2, 3,...</td>\n",
       "      <td>[]</td>\n",
       "      <td>NaN</td>\n",
       "      <td>set()</td>\n",
       "      <td>2018-05-01</td>\n",
       "      <td>[In, TXR, Lisp, s, FFI, I, developed, detailed, support, for, bitfields, alignment, and, packing...</td>\n",
       "      <td>{Hope, Lisp}</td>\n",
       "      <td>In TXR Lisp's FFI, I developed detailed support for bitfields, alignment and packing. You can co...</td>\n",
       "      <td>[In, TXR, Lisp, FFI, I, developed, detailed, support, for, bitfields, alignment, and, packing, Y...</td>\n",
       "      <td>{Hope, Lisp}</td>\n",
       "    </tr>\n",
       "  </tbody>\n",
       "</table>\n",
       "</div>"
      ],
      "text/plain": [
       "           by dead deleted  descendants        id        kids      parent  \\\n",
       "7       yodon  NaN     NaN          NaN  16963608  [16966314]  16962948.0   \n",
       "18       dfox  NaN     NaN          NaN  16963619         NaN  16962096.0   \n",
       "30  kazinator  NaN     NaN          NaN  16963631         NaN  16961549.0   \n",
       "\n",
       "   parts  poll  retrieved_on  score  \\\n",
       "7    NaN   NaN    1528401049    NaN   \n",
       "18   NaN   NaN    1528401050    NaN   \n",
       "30   NaN   NaN    1528401052    NaN   \n",
       "\n",
       "                                                                                                   text  \\\n",
       "7   (Retyped is part of the Bridge.NET C# -> JS/TypeScript converter)<p>It’s super exciting too see ...   \n",
       "18  As for the solaris it is probably only UNIX where ignoring the ISO C rule that anything ending w...   \n",
       "30  In TXR Lisp's FFI, I developed detailed support for bitfields, alignment and packing. You can co...   \n",
       "\n",
       "          time title     type  url  \\\n",
       "7   1525132905   NaN  comment  NaN   \n",
       "18  1525133028   NaN  comment  NaN   \n",
       "30  1525133240   NaN  comment  NaN   \n",
       "\n",
       "                                                                                         text_sentences  \\\n",
       "7   [(Retyped is part of the Bridge.NET C# -> JS/TypeScript converter)<p>It’s super exciting too see...   \n",
       "18  [As for the solaris it is probably only UNIX where ignoring the ISO C rule that anything ending ...   \n",
       "30  [In TXR Lisp's FFI, I developed detailed support for bitfields, alignment and packing., You can ...   \n",
       "\n",
       "                                                                                             text_words  \\\n",
       "7   [Retyped, is, part, of, the, Bridge, NET, C, JS, TypeScript, converter, p, It, s, super, excitin...   \n",
       "18  [As, for, the, solaris, it, is, probably, only, UNIX, where, ignoring, the, ISO, C, rule, that, ...   \n",
       "30  [In, TXR, Lisp, s, FFI, I, developed, detailed, support, for, bitfields, alignment, and, packing...   \n",
       "\n",
       "   title_words  text_words_count  title_words_count  text_sentences_count  \\\n",
       "7           []                96                  0                     1   \n",
       "18          []               106                  0                     1   \n",
       "30          []               153                  0                     3   \n",
       "\n",
       "                                                                                  lengths_of_text_words  \\\n",
       "7   [7, 2, 4, 2, 3, 6, 3, 1, 2, 10, 9, 1, 2, 1, 5, 8, 3, 3, 6, 11, 3, 5, 2, 1, 5, 4, 8, 4, 1, 6, 3, ...   \n",
       "18  [2, 3, 3, 7, 2, 2, 8, 4, 4, 5, 8, 3, 3, 1, 4, 4, 8, 6, 4, 2, 2, 8, 3, 14, 4, 4, 3, 4, 2, 7, 4, 7...   \n",
       "30  [2, 3, 4, 1, 3, 1, 9, 8, 7, 3, 9, 9, 3, 7, 3, 3, 6, 4, 3, 4, 2, 6, 4, 2, 6, 3, 2, 1, 8, 1, 2, 3,...   \n",
       "\n",
       "   lengths_of_title_words netloc           techs         day  \\\n",
       "7                      []    NaN  {'TypeScript'}  2018-05-01   \n",
       "18                     []    NaN           {'C'}  2018-05-01   \n",
       "30                     []    NaN           set()  2018-05-01   \n",
       "\n",
       "                                                                                              all_words  \\\n",
       "7   [Retyped, is, part, of, the, Bridge, NET, C, JS, TypeScript, converter, p, It, s, super, excitin...   \n",
       "18  [As, for, the, solaris, it, is, probably, only, UNIX, where, ignoring, the, ISO, C, rule, that, ...   \n",
       "30  [In, TXR, Lisp, s, FFI, I, developed, detailed, support, for, bitfields, alignment, and, packing...   \n",
       "\n",
       "          languages  \\\n",
       "7   {TypeScript, C}   \n",
       "18              {C}   \n",
       "30     {Hope, Lisp}   \n",
       "\n",
       "                                                                                               all_text  \\\n",
       "7   (Retyped is part of the Bridge.NET C# -> JS/TypeScript converter)<p>It’s super exciting too see ...   \n",
       "18  As for the solaris it is probably only UNIX where ignoring the ISO C rule that anything ending w...   \n",
       "30  In TXR Lisp's FFI, I developed detailed support for bitfields, alignment and packing. You can co...   \n",
       "\n",
       "                                                                                             all_tokens  \\\n",
       "7   [Retyped, is, part, of, the, Bridge, NET, C#, ->, JS/TypeScript, converter, It’s, super, excitin...   \n",
       "18  [As, for, the, solaris, it, is, probably, only, UNIX, where, ignoring, the, ISO, C, rule, that, ...   \n",
       "30  [In, TXR, Lisp, FFI, I, developed, detailed, support, for, bitfields, alignment, and, packing, Y...   \n",
       "\n",
       "         languages_2  \n",
       "7   {TypeScript, C#}  \n",
       "18               {C}  \n",
       "30      {Hope, Lisp}  "
      ]
     },
     "execution_count": 14,
     "metadata": {},
     "output_type": "execute_result"
    }
   ],
   "source": [
    "fin_df[fin_df['languages_2']!=set()].head(3)"
   ]
  },
  {
   "cell_type": "code",
   "execution_count": null,
   "metadata": {},
   "outputs": [],
   "source": [
    "langs_pop = Counter(fin_df['languages_2'].apply(lambda x: list(x)).sum())"
   ]
  },
  {
   "cell_type": "code",
   "execution_count": null,
   "metadata": {},
   "outputs": [],
   "source": [
    "langs_pop.most_common(10)"
   ]
  },
  {
   "cell_type": "markdown",
   "metadata": {},
   "source": [
    "### Те ошибки исправлены, но остались следующие: "
   ]
  },
  {
   "cell_type": "markdown",
   "metadata": {},
   "source": [
    "    * инициалы, как однобуквенные ЯП:     C R\n",
    "    * имена людей и технологий:           Alice \n",
    "    * слова из языка и технологии:         Hope, make, Go"
   ]
  },
  {
   "cell_type": "code",
   "execution_count": 21,
   "metadata": {},
   "outputs": [],
   "source": [
    "def plot_techs_df(tech_list, df):\n",
    "    iplot([{\n",
    "        'x': sorted(df['day'].unique()),\n",
    "        'y': df[df['languages_2'].apply(lambda x: top_l in x)].groupby('day')['id'].count(),\n",
    "        'name': top_l\n",
    "    }  for top_l in tech_list], filename='cufflinks/simple-line')\n"
   ]
  },
  {
   "cell_type": "markdown",
   "metadata": {},
   "source": [
    "### Более популярны посты про JavaScript, но в комментариях чаще пишут про Python "
   ]
  },
  {
   "cell_type": "code",
   "execution_count": 22,
   "metadata": {},
   "outputs": [
    {
     "data": {
      "application/vnd.plotly.v1+json": {
       "config": {
        "linkText": "Export to plot.ly",
        "plotlyServerURL": "https://plot.ly",
        "showLink": true
       },
       "data": [
        {
         "name": "JavaScript",
         "type": "scatter",
         "uid": "6582aadf-d6b4-4b1e-b6b0-c606154dc4af",
         "x": [
          "2018-05-01",
          "2018-05-02",
          "2018-05-03",
          "2018-05-04",
          "2018-05-05",
          "2018-05-06",
          "2018-05-07",
          "2018-05-08",
          "2018-05-09",
          "2018-05-10",
          "2018-05-11",
          "2018-05-12",
          "2018-05-13",
          "2018-05-14",
          "2018-05-15",
          "2018-05-16",
          "2018-05-17",
          "2018-05-18",
          "2018-05-19",
          "2018-05-20",
          "2018-05-21",
          "2018-05-22",
          "2018-05-23",
          "2018-05-24",
          "2018-05-25",
          "2018-05-26",
          "2018-05-27",
          "2018-05-28",
          "2018-05-29",
          "2018-05-30",
          "2018-05-31"
         ],
         "y": [
          4,
          7,
          5,
          4,
          6,
          3,
          1,
          11,
          12,
          7,
          6,
          3,
          3,
          4,
          14,
          12,
          3,
          8,
          4,
          9,
          5,
          5,
          10,
          5,
          10,
          5,
          3,
          5,
          11,
          8,
          7
         ]
        },
        {
         "name": "Python",
         "type": "scatter",
         "uid": "feb6b1eb-417b-470b-811c-95b75405783c",
         "x": [
          "2018-05-01",
          "2018-05-02",
          "2018-05-03",
          "2018-05-04",
          "2018-05-05",
          "2018-05-06",
          "2018-05-07",
          "2018-05-08",
          "2018-05-09",
          "2018-05-10",
          "2018-05-11",
          "2018-05-12",
          "2018-05-13",
          "2018-05-14",
          "2018-05-15",
          "2018-05-16",
          "2018-05-17",
          "2018-05-18",
          "2018-05-19",
          "2018-05-20",
          "2018-05-21",
          "2018-05-22",
          "2018-05-23",
          "2018-05-24",
          "2018-05-25",
          "2018-05-26",
          "2018-05-27",
          "2018-05-28",
          "2018-05-29",
          "2018-05-30",
          "2018-05-31"
         ],
         "y": [
          14,
          14,
          9,
          7,
          8,
          6,
          8,
          7,
          5,
          4,
          6,
          3,
          4,
          9,
          7,
          4,
          9,
          6,
          4,
          6,
          7,
          8,
          3,
          3,
          6,
          4,
          4,
          14,
          13,
          9,
          10
         ]
        },
        {
         "name": "C++",
         "type": "scatter",
         "uid": "bd8c8a36-3869-45df-913a-b872b2bd763a",
         "x": [
          "2018-05-01",
          "2018-05-02",
          "2018-05-03",
          "2018-05-04",
          "2018-05-05",
          "2018-05-06",
          "2018-05-07",
          "2018-05-08",
          "2018-05-09",
          "2018-05-10",
          "2018-05-11",
          "2018-05-12",
          "2018-05-13",
          "2018-05-14",
          "2018-05-15",
          "2018-05-16",
          "2018-05-17",
          "2018-05-18",
          "2018-05-19",
          "2018-05-20",
          "2018-05-21",
          "2018-05-22",
          "2018-05-23",
          "2018-05-24",
          "2018-05-25",
          "2018-05-26",
          "2018-05-27",
          "2018-05-28",
          "2018-05-29",
          "2018-05-30",
          "2018-05-31"
         ],
         "y": [
          1,
          4,
          2,
          1,
          1,
          3,
          2,
          4,
          2,
          3,
          1,
          1,
          2,
          5,
          1,
          3,
          4,
          4,
          1,
          2,
          3,
          2,
          6,
          3,
          2,
          2,
          3,
          2,
          2,
          2
         ]
        }
       ],
       "layout": {}
      },
      "text/html": [
       "<div id=\"f489079c-db74-4f4c-b3c7-c7dd930005ca\" style=\"height: 525px; width: 100%;\" class=\"plotly-graph-div\"></div><script type=\"text/javascript\">require([\"plotly\"], function(Plotly) { window.PLOTLYENV=window.PLOTLYENV || {};window.PLOTLYENV.BASE_URL=\"https://plot.ly\";Plotly.newPlot(\"f489079c-db74-4f4c-b3c7-c7dd930005ca\", [{\"uid\": \"e030de04-df1e-4702-bf45-fbb70dfa393a\", \"y\": [4, 7, 5, 4, 6, 3, 1, 11, 12, 7, 6, 3, 3, 4, 14, 12, 3, 8, 4, 9, 5, 5, 10, 5, 10, 5, 3, 5, 11, 8, 7], \"x\": [\"2018-05-01\", \"2018-05-02\", \"2018-05-03\", \"2018-05-04\", \"2018-05-05\", \"2018-05-06\", \"2018-05-07\", \"2018-05-08\", \"2018-05-09\", \"2018-05-10\", \"2018-05-11\", \"2018-05-12\", \"2018-05-13\", \"2018-05-14\", \"2018-05-15\", \"2018-05-16\", \"2018-05-17\", \"2018-05-18\", \"2018-05-19\", \"2018-05-20\", \"2018-05-21\", \"2018-05-22\", \"2018-05-23\", \"2018-05-24\", \"2018-05-25\", \"2018-05-26\", \"2018-05-27\", \"2018-05-28\", \"2018-05-29\", \"2018-05-30\", \"2018-05-31\"], \"name\": \"JavaScript\", \"type\": \"scatter\"}, {\"uid\": \"83a790b2-c9e4-4fb7-8427-2e6f0f82fc7d\", \"y\": [14, 14, 9, 7, 8, 6, 8, 7, 5, 4, 6, 3, 4, 9, 7, 4, 9, 6, 4, 6, 7, 8, 3, 3, 6, 4, 4, 14, 13, 9, 10], \"x\": [\"2018-05-01\", \"2018-05-02\", \"2018-05-03\", \"2018-05-04\", \"2018-05-05\", \"2018-05-06\", \"2018-05-07\", \"2018-05-08\", \"2018-05-09\", \"2018-05-10\", \"2018-05-11\", \"2018-05-12\", \"2018-05-13\", \"2018-05-14\", \"2018-05-15\", \"2018-05-16\", \"2018-05-17\", \"2018-05-18\", \"2018-05-19\", \"2018-05-20\", \"2018-05-21\", \"2018-05-22\", \"2018-05-23\", \"2018-05-24\", \"2018-05-25\", \"2018-05-26\", \"2018-05-27\", \"2018-05-28\", \"2018-05-29\", \"2018-05-30\", \"2018-05-31\"], \"name\": \"Python\", \"type\": \"scatter\"}, {\"uid\": \"7b3bbaff-f3ba-4375-a467-32f822c40a9f\", \"y\": [1, 4, 2, 1, 1, 3, 2, 4, 2, 3, 1, 1, 2, 5, 1, 3, 4, 4, 1, 2, 3, 2, 6, 3, 2, 2, 3, 2, 2, 2], \"x\": [\"2018-05-01\", \"2018-05-02\", \"2018-05-03\", \"2018-05-04\", \"2018-05-05\", \"2018-05-06\", \"2018-05-07\", \"2018-05-08\", \"2018-05-09\", \"2018-05-10\", \"2018-05-11\", \"2018-05-12\", \"2018-05-13\", \"2018-05-14\", \"2018-05-15\", \"2018-05-16\", \"2018-05-17\", \"2018-05-18\", \"2018-05-19\", \"2018-05-20\", \"2018-05-21\", \"2018-05-22\", \"2018-05-23\", \"2018-05-24\", \"2018-05-25\", \"2018-05-26\", \"2018-05-27\", \"2018-05-28\", \"2018-05-29\", \"2018-05-30\", \"2018-05-31\"], \"name\": \"C++\", \"type\": \"scatter\"}], {}, {\"plotlyServerURL\": \"https://plot.ly\", \"linkText\": \"Export to plot.ly\", \"showLink\": true})});</script><script type=\"text/javascript\">window.addEventListener(\"resize\", function(){window._Plotly.Plots.resize(document.getElementById(\"f489079c-db74-4f4c-b3c7-c7dd930005ca\"));});</script>"
      ],
      "text/vnd.plotly.v1+html": [
       "<div id=\"f489079c-db74-4f4c-b3c7-c7dd930005ca\" style=\"height: 525px; width: 100%;\" class=\"plotly-graph-div\"></div><script type=\"text/javascript\">require([\"plotly\"], function(Plotly) { window.PLOTLYENV=window.PLOTLYENV || {};window.PLOTLYENV.BASE_URL=\"https://plot.ly\";Plotly.newPlot(\"f489079c-db74-4f4c-b3c7-c7dd930005ca\", [{\"uid\": \"e030de04-df1e-4702-bf45-fbb70dfa393a\", \"y\": [4, 7, 5, 4, 6, 3, 1, 11, 12, 7, 6, 3, 3, 4, 14, 12, 3, 8, 4, 9, 5, 5, 10, 5, 10, 5, 3, 5, 11, 8, 7], \"x\": [\"2018-05-01\", \"2018-05-02\", \"2018-05-03\", \"2018-05-04\", \"2018-05-05\", \"2018-05-06\", \"2018-05-07\", \"2018-05-08\", \"2018-05-09\", \"2018-05-10\", \"2018-05-11\", \"2018-05-12\", \"2018-05-13\", \"2018-05-14\", \"2018-05-15\", \"2018-05-16\", \"2018-05-17\", \"2018-05-18\", \"2018-05-19\", \"2018-05-20\", \"2018-05-21\", \"2018-05-22\", \"2018-05-23\", \"2018-05-24\", \"2018-05-25\", \"2018-05-26\", \"2018-05-27\", \"2018-05-28\", \"2018-05-29\", \"2018-05-30\", \"2018-05-31\"], \"name\": \"JavaScript\", \"type\": \"scatter\"}, {\"uid\": \"83a790b2-c9e4-4fb7-8427-2e6f0f82fc7d\", \"y\": [14, 14, 9, 7, 8, 6, 8, 7, 5, 4, 6, 3, 4, 9, 7, 4, 9, 6, 4, 6, 7, 8, 3, 3, 6, 4, 4, 14, 13, 9, 10], \"x\": [\"2018-05-01\", \"2018-05-02\", \"2018-05-03\", \"2018-05-04\", \"2018-05-05\", \"2018-05-06\", \"2018-05-07\", \"2018-05-08\", \"2018-05-09\", \"2018-05-10\", \"2018-05-11\", \"2018-05-12\", \"2018-05-13\", \"2018-05-14\", \"2018-05-15\", \"2018-05-16\", \"2018-05-17\", \"2018-05-18\", \"2018-05-19\", \"2018-05-20\", \"2018-05-21\", \"2018-05-22\", \"2018-05-23\", \"2018-05-24\", \"2018-05-25\", \"2018-05-26\", \"2018-05-27\", \"2018-05-28\", \"2018-05-29\", \"2018-05-30\", \"2018-05-31\"], \"name\": \"Python\", \"type\": \"scatter\"}, {\"uid\": \"7b3bbaff-f3ba-4375-a467-32f822c40a9f\", \"y\": [1, 4, 2, 1, 1, 3, 2, 4, 2, 3, 1, 1, 2, 5, 1, 3, 4, 4, 1, 2, 3, 2, 6, 3, 2, 2, 3, 2, 2, 2], \"x\": [\"2018-05-01\", \"2018-05-02\", \"2018-05-03\", \"2018-05-04\", \"2018-05-05\", \"2018-05-06\", \"2018-05-07\", \"2018-05-08\", \"2018-05-09\", \"2018-05-10\", \"2018-05-11\", \"2018-05-12\", \"2018-05-13\", \"2018-05-14\", \"2018-05-15\", \"2018-05-16\", \"2018-05-17\", \"2018-05-18\", \"2018-05-19\", \"2018-05-20\", \"2018-05-21\", \"2018-05-22\", \"2018-05-23\", \"2018-05-24\", \"2018-05-25\", \"2018-05-26\", \"2018-05-27\", \"2018-05-28\", \"2018-05-29\", \"2018-05-30\", \"2018-05-31\"], \"name\": \"C++\", \"type\": \"scatter\"}], {}, {\"plotlyServerURL\": \"https://plot.ly\", \"linkText\": \"Export to plot.ly\", \"showLink\": true})});</script><script type=\"text/javascript\">window.addEventListener(\"resize\", function(){window._Plotly.Plots.resize(document.getElementById(\"f489079c-db74-4f4c-b3c7-c7dd930005ca\"));});</script>"
      ]
     },
     "metadata": {},
     "output_type": "display_data"
    }
   ],
   "source": [
    "plot_techs_df([ 'JavaScript', 'Python', 'C++'], fin_df[fin_df['type'] == 'story'])"
   ]
  },
  {
   "cell_type": "code",
   "execution_count": 23,
   "metadata": {},
   "outputs": [
    {
     "data": {
      "application/vnd.plotly.v1+json": {
       "config": {
        "linkText": "Export to plot.ly",
        "plotlyServerURL": "https://plot.ly",
        "showLink": true
       },
       "data": [
        {
         "name": "JavaScript",
         "type": "scatter",
         "uid": "7afedcc3-0b9f-441c-a308-3f80e23e10b6",
         "x": [
          "2018-05-01",
          "2018-05-02",
          "2018-05-03",
          "2018-05-04",
          "2018-05-05",
          "2018-05-06",
          "2018-05-07",
          "2018-05-08",
          "2018-05-09",
          "2018-05-10",
          "2018-05-11",
          "2018-05-12",
          "2018-05-13",
          "2018-05-14",
          "2018-05-15",
          "2018-05-16",
          "2018-05-17",
          "2018-05-18",
          "2018-05-19",
          "2018-05-20",
          "2018-05-21",
          "2018-05-22",
          "2018-05-23",
          "2018-05-24",
          "2018-05-25",
          "2018-05-26",
          "2018-05-27",
          "2018-05-28",
          "2018-05-29",
          "2018-05-30",
          "2018-05-31"
         ],
         "y": [
          94,
          39,
          29,
          13,
          14,
          13,
          9,
          33,
          39,
          27,
          24,
          15,
          12,
          15,
          22,
          96,
          35,
          27,
          15,
          9,
          13,
          7,
          40,
          32,
          18,
          28,
          15,
          8,
          15,
          23,
          21
         ]
        },
        {
         "name": "Python",
         "type": "scatter",
         "uid": "5eec34ad-ad17-4c68-a3b1-4e85b4a2e2bc",
         "x": [
          "2018-05-01",
          "2018-05-02",
          "2018-05-03",
          "2018-05-04",
          "2018-05-05",
          "2018-05-06",
          "2018-05-07",
          "2018-05-08",
          "2018-05-09",
          "2018-05-10",
          "2018-05-11",
          "2018-05-12",
          "2018-05-13",
          "2018-05-14",
          "2018-05-15",
          "2018-05-16",
          "2018-05-17",
          "2018-05-18",
          "2018-05-19",
          "2018-05-20",
          "2018-05-21",
          "2018-05-22",
          "2018-05-23",
          "2018-05-24",
          "2018-05-25",
          "2018-05-26",
          "2018-05-27",
          "2018-05-28",
          "2018-05-29",
          "2018-05-30",
          "2018-05-31"
         ],
         "y": [
          201,
          188,
          95,
          33,
          64,
          27,
          34,
          40,
          42,
          43,
          78,
          48,
          28,
          76,
          87,
          79,
          32,
          45,
          38,
          59,
          65,
          26,
          47,
          43,
          37,
          34,
          33,
          47,
          24,
          23,
          25
         ]
        },
        {
         "name": "C++",
         "type": "scatter",
         "uid": "4d974de6-3d82-44e9-9089-a2088941bd97",
         "x": [
          "2018-05-01",
          "2018-05-02",
          "2018-05-03",
          "2018-05-04",
          "2018-05-05",
          "2018-05-06",
          "2018-05-07",
          "2018-05-08",
          "2018-05-09",
          "2018-05-10",
          "2018-05-11",
          "2018-05-12",
          "2018-05-13",
          "2018-05-14",
          "2018-05-15",
          "2018-05-16",
          "2018-05-17",
          "2018-05-18",
          "2018-05-19",
          "2018-05-20",
          "2018-05-21",
          "2018-05-22",
          "2018-05-23",
          "2018-05-24",
          "2018-05-25",
          "2018-05-26",
          "2018-05-27",
          "2018-05-28",
          "2018-05-29",
          "2018-05-30",
          "2018-05-31"
         ],
         "y": [
          61,
          52,
          25,
          28,
          36,
          18,
          11,
          7,
          9,
          66,
          39,
          18,
          32,
          33,
          14,
          43,
          18,
          24,
          28,
          27,
          38,
          17,
          64,
          27,
          14,
          14,
          17,
          14,
          21,
          37,
          20
         ]
        }
       ],
       "layout": {}
      },
      "text/html": [
       "<div id=\"f18c6e22-5d69-4080-8e7c-b192dbd2f066\" style=\"height: 525px; width: 100%;\" class=\"plotly-graph-div\"></div><script type=\"text/javascript\">require([\"plotly\"], function(Plotly) { window.PLOTLYENV=window.PLOTLYENV || {};window.PLOTLYENV.BASE_URL=\"https://plot.ly\";Plotly.newPlot(\"f18c6e22-5d69-4080-8e7c-b192dbd2f066\", [{\"uid\": \"445fa554-08d5-4724-9db3-5e99b86fdc4c\", \"y\": [94, 39, 29, 13, 14, 13, 9, 33, 39, 27, 24, 15, 12, 15, 22, 96, 35, 27, 15, 9, 13, 7, 40, 32, 18, 28, 15, 8, 15, 23, 21], \"x\": [\"2018-05-01\", \"2018-05-02\", \"2018-05-03\", \"2018-05-04\", \"2018-05-05\", \"2018-05-06\", \"2018-05-07\", \"2018-05-08\", \"2018-05-09\", \"2018-05-10\", \"2018-05-11\", \"2018-05-12\", \"2018-05-13\", \"2018-05-14\", \"2018-05-15\", \"2018-05-16\", \"2018-05-17\", \"2018-05-18\", \"2018-05-19\", \"2018-05-20\", \"2018-05-21\", \"2018-05-22\", \"2018-05-23\", \"2018-05-24\", \"2018-05-25\", \"2018-05-26\", \"2018-05-27\", \"2018-05-28\", \"2018-05-29\", \"2018-05-30\", \"2018-05-31\"], \"name\": \"JavaScript\", \"type\": \"scatter\"}, {\"uid\": \"15fccebb-0c3f-489d-bc37-5de63eddaf7c\", \"y\": [201, 188, 95, 33, 64, 27, 34, 40, 42, 43, 78, 48, 28, 76, 87, 79, 32, 45, 38, 59, 65, 26, 47, 43, 37, 34, 33, 47, 24, 23, 25], \"x\": [\"2018-05-01\", \"2018-05-02\", \"2018-05-03\", \"2018-05-04\", \"2018-05-05\", \"2018-05-06\", \"2018-05-07\", \"2018-05-08\", \"2018-05-09\", \"2018-05-10\", \"2018-05-11\", \"2018-05-12\", \"2018-05-13\", \"2018-05-14\", \"2018-05-15\", \"2018-05-16\", \"2018-05-17\", \"2018-05-18\", \"2018-05-19\", \"2018-05-20\", \"2018-05-21\", \"2018-05-22\", \"2018-05-23\", \"2018-05-24\", \"2018-05-25\", \"2018-05-26\", \"2018-05-27\", \"2018-05-28\", \"2018-05-29\", \"2018-05-30\", \"2018-05-31\"], \"name\": \"Python\", \"type\": \"scatter\"}, {\"uid\": \"5faf949d-e7c7-4844-95d1-7c7c8698dac1\", \"y\": [61, 52, 25, 28, 36, 18, 11, 7, 9, 66, 39, 18, 32, 33, 14, 43, 18, 24, 28, 27, 38, 17, 64, 27, 14, 14, 17, 14, 21, 37, 20], \"x\": [\"2018-05-01\", \"2018-05-02\", \"2018-05-03\", \"2018-05-04\", \"2018-05-05\", \"2018-05-06\", \"2018-05-07\", \"2018-05-08\", \"2018-05-09\", \"2018-05-10\", \"2018-05-11\", \"2018-05-12\", \"2018-05-13\", \"2018-05-14\", \"2018-05-15\", \"2018-05-16\", \"2018-05-17\", \"2018-05-18\", \"2018-05-19\", \"2018-05-20\", \"2018-05-21\", \"2018-05-22\", \"2018-05-23\", \"2018-05-24\", \"2018-05-25\", \"2018-05-26\", \"2018-05-27\", \"2018-05-28\", \"2018-05-29\", \"2018-05-30\", \"2018-05-31\"], \"name\": \"C++\", \"type\": \"scatter\"}], {}, {\"plotlyServerURL\": \"https://plot.ly\", \"linkText\": \"Export to plot.ly\", \"showLink\": true})});</script><script type=\"text/javascript\">window.addEventListener(\"resize\", function(){window._Plotly.Plots.resize(document.getElementById(\"f18c6e22-5d69-4080-8e7c-b192dbd2f066\"));});</script>"
      ],
      "text/vnd.plotly.v1+html": [
       "<div id=\"f18c6e22-5d69-4080-8e7c-b192dbd2f066\" style=\"height: 525px; width: 100%;\" class=\"plotly-graph-div\"></div><script type=\"text/javascript\">require([\"plotly\"], function(Plotly) { window.PLOTLYENV=window.PLOTLYENV || {};window.PLOTLYENV.BASE_URL=\"https://plot.ly\";Plotly.newPlot(\"f18c6e22-5d69-4080-8e7c-b192dbd2f066\", [{\"uid\": \"445fa554-08d5-4724-9db3-5e99b86fdc4c\", \"y\": [94, 39, 29, 13, 14, 13, 9, 33, 39, 27, 24, 15, 12, 15, 22, 96, 35, 27, 15, 9, 13, 7, 40, 32, 18, 28, 15, 8, 15, 23, 21], \"x\": [\"2018-05-01\", \"2018-05-02\", \"2018-05-03\", \"2018-05-04\", \"2018-05-05\", \"2018-05-06\", \"2018-05-07\", \"2018-05-08\", \"2018-05-09\", \"2018-05-10\", \"2018-05-11\", \"2018-05-12\", \"2018-05-13\", \"2018-05-14\", \"2018-05-15\", \"2018-05-16\", \"2018-05-17\", \"2018-05-18\", \"2018-05-19\", \"2018-05-20\", \"2018-05-21\", \"2018-05-22\", \"2018-05-23\", \"2018-05-24\", \"2018-05-25\", \"2018-05-26\", \"2018-05-27\", \"2018-05-28\", \"2018-05-29\", \"2018-05-30\", \"2018-05-31\"], \"name\": \"JavaScript\", \"type\": \"scatter\"}, {\"uid\": \"15fccebb-0c3f-489d-bc37-5de63eddaf7c\", \"y\": [201, 188, 95, 33, 64, 27, 34, 40, 42, 43, 78, 48, 28, 76, 87, 79, 32, 45, 38, 59, 65, 26, 47, 43, 37, 34, 33, 47, 24, 23, 25], \"x\": [\"2018-05-01\", \"2018-05-02\", \"2018-05-03\", \"2018-05-04\", \"2018-05-05\", \"2018-05-06\", \"2018-05-07\", \"2018-05-08\", \"2018-05-09\", \"2018-05-10\", \"2018-05-11\", \"2018-05-12\", \"2018-05-13\", \"2018-05-14\", \"2018-05-15\", \"2018-05-16\", \"2018-05-17\", \"2018-05-18\", \"2018-05-19\", \"2018-05-20\", \"2018-05-21\", \"2018-05-22\", \"2018-05-23\", \"2018-05-24\", \"2018-05-25\", \"2018-05-26\", \"2018-05-27\", \"2018-05-28\", \"2018-05-29\", \"2018-05-30\", \"2018-05-31\"], \"name\": \"Python\", \"type\": \"scatter\"}, {\"uid\": \"5faf949d-e7c7-4844-95d1-7c7c8698dac1\", \"y\": [61, 52, 25, 28, 36, 18, 11, 7, 9, 66, 39, 18, 32, 33, 14, 43, 18, 24, 28, 27, 38, 17, 64, 27, 14, 14, 17, 14, 21, 37, 20], \"x\": [\"2018-05-01\", \"2018-05-02\", \"2018-05-03\", \"2018-05-04\", \"2018-05-05\", \"2018-05-06\", \"2018-05-07\", \"2018-05-08\", \"2018-05-09\", \"2018-05-10\", \"2018-05-11\", \"2018-05-12\", \"2018-05-13\", \"2018-05-14\", \"2018-05-15\", \"2018-05-16\", \"2018-05-17\", \"2018-05-18\", \"2018-05-19\", \"2018-05-20\", \"2018-05-21\", \"2018-05-22\", \"2018-05-23\", \"2018-05-24\", \"2018-05-25\", \"2018-05-26\", \"2018-05-27\", \"2018-05-28\", \"2018-05-29\", \"2018-05-30\", \"2018-05-31\"], \"name\": \"C++\", \"type\": \"scatter\"}], {}, {\"plotlyServerURL\": \"https://plot.ly\", \"linkText\": \"Export to plot.ly\", \"showLink\": true})});</script><script type=\"text/javascript\">window.addEventListener(\"resize\", function(){window._Plotly.Plots.resize(document.getElementById(\"f18c6e22-5d69-4080-8e7c-b192dbd2f066\"));});</script>"
      ]
     },
     "metadata": {},
     "output_type": "display_data"
    }
   ],
   "source": [
    "plot_techs_df(['JavaScript', 'Python', 'C++'], fin_df[fin_df['type'] == 'comment'])"
   ]
  },
  {
   "cell_type": "markdown",
   "metadata": {},
   "source": [
    "## Какие ЯП упоминаются вместе:"
   ]
  },
  {
   "cell_type": "code",
   "execution_count": 25,
   "metadata": {},
   "outputs": [],
   "source": [
    "corr = Counter()\n",
    "\n",
    "for langs in fin_df['languages_2'].values:\n",
    "    for comb in combinations(langs, 2):\n",
    "        corr[tuple(sorted(comb))] += 1"
   ]
  },
  {
   "cell_type": "code",
   "execution_count": 26,
   "metadata": {},
   "outputs": [
    {
     "data": {
      "text/plain": [
       "[(('C', 'C++'), 285),\n",
       " (('Java', 'Python'), 227),\n",
       " (('C', 'Python'), 182),\n",
       " (('C', 'Rust'), 163),\n",
       " (('C++', 'Java'), 162),\n",
       " (('C++', 'Python'), 149),\n",
       " (('B', 'C'), 146),\n",
       " (('Python', 'Ruby'), 144),\n",
       " (('Go', 'Rust'), 143),\n",
       " (('Go', 'Python'), 142),\n",
       " (('C', 'Java'), 142),\n",
       " (('JavaScript', 'Python'), 140),\n",
       " (('C++', 'Rust'), 129),\n",
       " (('C#', 'Java'), 120),\n",
       " (('Java', 'Kotlin'), 114)]"
      ]
     },
     "execution_count": 26,
     "metadata": {},
     "output_type": "execute_result"
    }
   ],
   "source": [
    "corr.most_common(15)"
   ]
  },
  {
   "cell_type": "markdown",
   "metadata": {},
   "source": [
    "### Load opinion lexicon \n",
    "### https://github.com/pmin91/metis/tree/master/04-Aspect_Based_Opinion_Mining/data/opinion-lexicon-English\n"
   ]
  },
  {
   "cell_type": "code",
   "execution_count": 28,
   "metadata": {},
   "outputs": [],
   "source": [
    "with open(\"./data/neg_words.txt\", 'r', encoding = \"ISO-8859-1\") as f:\n",
    "    neg_words = list(map(lambda x: x.strip(), f.readlines()))\n",
    "with open(\"./data/pos_words.txt\", 'r', encoding = \"ISO-8859-1\") as f:\n",
    "    pos_words  = list(map(lambda x: x.strip(), f.readlines()))\n",
    "opinion_words = neg_words + pos_words"
   ]
  },
  {
   "cell_type": "code",
   "execution_count": 29,
   "metadata": {},
   "outputs": [],
   "source": [
    "all_score_dict = dict(zip(neg_words, [-1 for i in range(len(neg_words))]))\n",
    "pos_score_dict = dict(zip(pos_words, [1 for i in range(len(pos_words))]))\n",
    "\n",
    "all_score_dict.update(pos_score_dict)"
   ]
  },
  {
   "cell_type": "code",
   "execution_count": 30,
   "metadata": {},
   "outputs": [],
   "source": [
    "def get_sentiment_score(tokens):\n",
    "    sent_score = 0\n",
    "    for token in tokens:\n",
    "        try:\n",
    "            sent_score += all_score_dict[token]\n",
    "        except:\n",
    "            pass\n",
    "    return sent_score"
   ]
  },
  {
   "cell_type": "code",
   "execution_count": 32,
   "metadata": {},
   "outputs": [],
   "source": [
    "fin_df['sentiment'] = fin_df['all_tokens'].apply(get_sentiment_score) "
   ]
  },
  {
   "cell_type": "code",
   "execution_count": 33,
   "metadata": {},
   "outputs": [
    {
     "data": {
      "text/plain": [
       "<matplotlib.axes._subplots.AxesSubplot at 0x7fa5654ad470>"
      ]
     },
     "execution_count": 33,
     "metadata": {},
     "output_type": "execute_result"
    },
    {
     "data": {
      "image/png": "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\n",
      "text/plain": [
       "<Figure size 432x288 with 1 Axes>"
      ]
     },
     "metadata": {
      "needs_background": "light"
     },
     "output_type": "display_data"
    }
   ],
   "source": [
    "fin_df['sentiment'].hist(bins=50) "
   ]
  },
  {
   "cell_type": "code",
   "execution_count": 36,
   "metadata": {
    "scrolled": false
   },
   "outputs": [
    {
     "data": {
      "text/html": [
       "<div>\n",
       "<style scoped>\n",
       "    .dataframe tbody tr th:only-of-type {\n",
       "        vertical-align: middle;\n",
       "    }\n",
       "\n",
       "    .dataframe tbody tr th {\n",
       "        vertical-align: top;\n",
       "    }\n",
       "\n",
       "    .dataframe thead th {\n",
       "        text-align: right;\n",
       "    }\n",
       "</style>\n",
       "<table border=\"1\" class=\"dataframe\">\n",
       "  <thead>\n",
       "    <tr style=\"text-align: right;\">\n",
       "      <th></th>\n",
       "      <th>lang_2_str</th>\n",
       "      <th>sentiment</th>\n",
       "    </tr>\n",
       "  </thead>\n",
       "  <tbody>\n",
       "    <tr>\n",
       "      <th>0</th>\n",
       "      <td></td>\n",
       "      <td>0.34293</td>\n",
       "    </tr>\n",
       "    <tr>\n",
       "      <th>1</th>\n",
       "      <td>A+</td>\n",
       "      <td>-0.40000</td>\n",
       "    </tr>\n",
       "    <tr>\n",
       "      <th>2</th>\n",
       "      <td>A+_K</td>\n",
       "      <td>1.00000</td>\n",
       "    </tr>\n",
       "  </tbody>\n",
       "</table>\n",
       "</div>"
      ],
      "text/plain": [
       "  lang_2_str  sentiment\n",
       "0               0.34293\n",
       "1         A+   -0.40000\n",
       "2       A+_K    1.00000"
      ]
     },
     "execution_count": 36,
     "metadata": {},
     "output_type": "execute_result"
    }
   ],
   "source": [
    "fin_df['lang_2_str'] = fin_df['languages_2'].apply(lambda x: '_'.join(x))\n",
    "mean_sent_for_langs = fin_df.groupby('lang_2_str')['sentiment'].mean().reset_index()\n",
    "mean_sent_for_langs.head(3)"
   ]
  },
  {
   "cell_type": "code",
   "execution_count": 37,
   "metadata": {
    "scrolled": false
   },
   "outputs": [
    {
     "data": {
      "text/plain": [
       "<matplotlib.axes._subplots.AxesSubplot at 0x7fa565413ba8>"
      ]
     },
     "execution_count": 37,
     "metadata": {},
     "output_type": "execute_result"
    },
    {
     "data": {
      "image/png": "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\n",
      "text/plain": [
       "<Figure size 432x288 with 1 Axes>"
      ]
     },
     "metadata": {
      "needs_background": "light"
     },
     "output_type": "display_data"
    }
   ],
   "source": [
    "mean_sent_for_langs['sentiment'].hist()\n"
   ]
  },
  {
   "cell_type": "markdown",
   "metadata": {},
   "source": [
    "суммарный сентимент-скор, если ЯП встречаются вместе:"
   ]
  },
  {
   "cell_type": "code",
   "execution_count": 38,
   "metadata": {},
   "outputs": [
    {
     "data": {
      "text/html": [
       "<div>\n",
       "<style scoped>\n",
       "    .dataframe tbody tr th:only-of-type {\n",
       "        vertical-align: middle;\n",
       "    }\n",
       "\n",
       "    .dataframe tbody tr th {\n",
       "        vertical-align: top;\n",
       "    }\n",
       "\n",
       "    .dataframe thead th {\n",
       "        text-align: right;\n",
       "    }\n",
       "</style>\n",
       "<table border=\"1\" class=\"dataframe\">\n",
       "  <thead>\n",
       "    <tr style=\"text-align: right;\">\n",
       "      <th></th>\n",
       "      <th>lang_2_str</th>\n",
       "      <th>sentiment</th>\n",
       "    </tr>\n",
       "  </thead>\n",
       "  <tbody>\n",
       "    <tr>\n",
       "      <th>115</th>\n",
       "      <td>B_M_C_D</td>\n",
       "      <td>-13.0</td>\n",
       "    </tr>\n",
       "    <tr>\n",
       "      <th>395</th>\n",
       "      <td>C_Scratch</td>\n",
       "      <td>-12.0</td>\n",
       "    </tr>\n",
       "    <tr>\n",
       "      <th>807</th>\n",
       "      <td>JSON_Bash</td>\n",
       "      <td>-13.0</td>\n",
       "    </tr>\n",
       "    <tr>\n",
       "      <th>1803</th>\n",
       "      <td>Rust_C++_Go_ECMAScript</td>\n",
       "      <td>-11.0</td>\n",
       "    </tr>\n",
       "    <tr>\n",
       "      <th>2063</th>\n",
       "      <td>T_JavaScript_Smalltalk_G</td>\n",
       "      <td>-12.0</td>\n",
       "    </tr>\n",
       "  </tbody>\n",
       "</table>\n",
       "</div>"
      ],
      "text/plain": [
       "                    lang_2_str  sentiment\n",
       "115                    B_M_C_D      -13.0\n",
       "395                  C_Scratch      -12.0\n",
       "807                  JSON_Bash      -13.0\n",
       "1803    Rust_C++_Go_ECMAScript      -11.0\n",
       "2063  T_JavaScript_Smalltalk_G      -12.0"
      ]
     },
     "execution_count": 38,
     "metadata": {},
     "output_type": "execute_result"
    }
   ],
   "source": [
    "mean_sent_for_langs[mean_sent_for_langs['sentiment'] < -10]"
   ]
  },
  {
   "cell_type": "code",
   "execution_count": 39,
   "metadata": {},
   "outputs": [
    {
     "data": {
      "text/html": [
       "<div>\n",
       "<style scoped>\n",
       "    .dataframe tbody tr th:only-of-type {\n",
       "        vertical-align: middle;\n",
       "    }\n",
       "\n",
       "    .dataframe tbody tr th {\n",
       "        vertical-align: top;\n",
       "    }\n",
       "\n",
       "    .dataframe thead th {\n",
       "        text-align: right;\n",
       "    }\n",
       "</style>\n",
       "<table border=\"1\" class=\"dataframe\">\n",
       "  <thead>\n",
       "    <tr style=\"text-align: right;\">\n",
       "      <th></th>\n",
       "      <th>lang_2_str</th>\n",
       "      <th>sentiment</th>\n",
       "    </tr>\n",
       "  </thead>\n",
       "  <tbody>\n",
       "    <tr>\n",
       "      <th>789</th>\n",
       "      <td>Hope_Go</td>\n",
       "      <td>28.0</td>\n",
       "    </tr>\n",
       "    <tr>\n",
       "      <th>942</th>\n",
       "      <td>Java_XL</td>\n",
       "      <td>25.0</td>\n",
       "    </tr>\n",
       "    <tr>\n",
       "      <th>1693</th>\n",
       "      <td>Ruby_C++_Python_C#</td>\n",
       "      <td>21.0</td>\n",
       "    </tr>\n",
       "    <tr>\n",
       "      <th>1702</th>\n",
       "      <td>Ruby_Clojure</td>\n",
       "      <td>22.0</td>\n",
       "    </tr>\n",
       "    <tr>\n",
       "      <th>2061</th>\n",
       "      <td>T_G_P_R_S_K</td>\n",
       "      <td>31.0</td>\n",
       "    </tr>\n",
       "    <tr>\n",
       "      <th>2097</th>\n",
       "      <td>Tom_Ruby_Python_P</td>\n",
       "      <td>25.0</td>\n",
       "    </tr>\n",
       "    <tr>\n",
       "      <th>2124</th>\n",
       "      <td>TypeScript_Java_Delphi_JavaScript_Plus_Self_Smalltalk</td>\n",
       "      <td>21.0</td>\n",
       "    </tr>\n",
       "  </tbody>\n",
       "</table>\n",
       "</div>"
      ],
      "text/plain": [
       "                                                 lang_2_str  sentiment\n",
       "789                                                 Hope_Go       28.0\n",
       "942                                                 Java_XL       25.0\n",
       "1693                                     Ruby_C++_Python_C#       21.0\n",
       "1702                                           Ruby_Clojure       22.0\n",
       "2061                                            T_G_P_R_S_K       31.0\n",
       "2097                                      Tom_Ruby_Python_P       25.0\n",
       "2124  TypeScript_Java_Delphi_JavaScript_Plus_Self_Smalltalk       21.0"
      ]
     },
     "execution_count": 39,
     "metadata": {},
     "output_type": "execute_result"
    }
   ],
   "source": [
    "mean_sent_for_langs[mean_sent_for_langs['sentiment'] > 20]"
   ]
  },
  {
   "cell_type": "markdown",
   "metadata": {},
   "source": [
    "_______________________"
   ]
  },
  {
   "cell_type": "markdown",
   "metadata": {},
   "source": [
    "_______________________"
   ]
  },
  {
   "cell_type": "markdown",
   "metadata": {},
   "source": [
    "_______________________"
   ]
  },
  {
   "cell_type": "code",
   "execution_count": null,
   "metadata": {},
   "outputs": [],
   "source": [
    "html_tags = list(map(lambda x: '<{}>'.format(x.strip()), \"\"\"a abbr address area article aside audio b base bdi bdo blockquote body br button canvas caption cite code col colgroup data datalist dd del dfn div dl dt em embed fieldset figcaption figure footer form h1 - h6 head header hr html i iframe img input ins kbd keygen label legend li link main map mark meta meter nav noscript object ol optgroup option output p param pre progress q rb rp rt rtc ruby s samp script section select small source span strong style sub sup table tbody td template textarea tfoot th thead time title tr track u ul var video wbr\"\"\"\\\n",
    "    .split()))"
   ]
  }
 ],
 "metadata": {
  "kernelspec": {
   "display_name": "Python 3",
   "language": "python",
   "name": "python3"
  },
  "language_info": {
   "codemirror_mode": {
    "name": "ipython",
    "version": 3
   },
   "file_extension": ".py",
   "mimetype": "text/x-python",
   "name": "python",
   "nbconvert_exporter": "python",
   "pygments_lexer": "ipython3",
   "version": "3.6.3"
  },
  "toc": {
   "nav_menu": {},
   "number_sections": true,
   "version": "3.5.2"
   "skip_h1_title": false,
   "toc_cell": false,
   "toc_position": {},
   "toc_section_display": "block",
   "toc_window_display": false
  }
 },
 "nbformat": 4,
 "nbformat_minor": 2
}
