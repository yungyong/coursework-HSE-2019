{
 "cells": [
  {
   "cell_type": "code",
   "execution_count": 1,
   "metadata": {},
   "outputs": [
    {
     "name": "stderr",
     "output_type": "stream",
     "text": [
      "/home/anisimova-anna/anaconda3/lib/python3.6/site-packages/msgpack_numpy.py:198: DeprecationWarning: encoding is deprecated, Use raw=False instead.\n",
      "  return _unpackb(packed, **kwargs)\n"
     ]
    }
   ],
   "source": [
    "from nltk.corpus import stopwords\n",
    "\n",
    "from html import unescape\n",
    "\n",
    "from w3lib.html import remove_tags\n",
    "\n",
    "import pandas as pd\n",
    "\n",
    "import re\n",
    "\n",
    "import textrank\n",
    "\n",
    "import importlib\n",
    "# importlib.reload(textrank)\n",
    "\n",
    "from tqdm import tqdm\n",
    "\n",
    "tqdm.pandas()\n",
    "\n",
    "import multiprocessing as mp\n",
    "\n",
    "import numpy as np\n",
    "\n",
    "%matplotlib inline\n",
    "import glob\n",
    "import os\n",
    "\n",
    "import artm\n",
    "\n",
    "import spacy\n",
    "\n",
    "nlp = spacy.load('en_core_web_sm')\n",
    "\n",
    "import pickle\n",
    "\n",
    "pd.options.display.max_colwidth=300\n",
    "\n",
    "from collections import Counter"
   ]
  },
  {
   "cell_type": "code",
   "execution_count": 2,
   "metadata": {},
   "outputs": [
    {
     "name": "stderr",
     "output_type": "stream",
     "text": [
      "/home/anisimova-anna/anaconda3/lib/python3.6/site-packages/IPython/core/interactiveshell.py:3049: DtypeWarning: Columns (7) have mixed types. Specify dtype option on import or set low_memory=False.\n",
      "  interactivity=interactivity, compiler=compiler, result=result)\n"
     ]
    }
   ],
   "source": [
    "df = pd.read_csv('data/df_hni_2018_05_orig.csv')"
   ]
  },
  {
   "cell_type": "code",
   "execution_count": 3,
   "metadata": {},
   "outputs": [
    {
     "data": {
      "text/html": [
       "<div>\n",
       "<style scoped>\n",
       "    .dataframe tbody tr th:only-of-type {\n",
       "        vertical-align: middle;\n",
       "    }\n",
       "\n",
       "    .dataframe tbody tr th {\n",
       "        vertical-align: top;\n",
       "    }\n",
       "\n",
       "    .dataframe thead th {\n",
       "        text-align: right;\n",
       "    }\n",
       "</style>\n",
       "<table border=\"1\" class=\"dataframe\">\n",
       "  <thead>\n",
       "    <tr style=\"text-align: right;\">\n",
       "      <th></th>\n",
       "      <th>by</th>\n",
       "      <th>dead</th>\n",
       "      <th>deleted</th>\n",
       "      <th>descendants</th>\n",
       "      <th>id</th>\n",
       "      <th>kids</th>\n",
       "      <th>parent</th>\n",
       "      <th>parts</th>\n",
       "      <th>poll</th>\n",
       "      <th>retrieved_on</th>\n",
       "      <th>score</th>\n",
       "      <th>text</th>\n",
       "      <th>time</th>\n",
       "      <th>title</th>\n",
       "      <th>type</th>\n",
       "      <th>url</th>\n",
       "    </tr>\n",
       "  </thead>\n",
       "  <tbody>\n",
       "    <tr>\n",
       "      <th>0</th>\n",
       "      <td>burntwater</td>\n",
       "      <td>NaN</td>\n",
       "      <td>NaN</td>\n",
       "      <td>NaN</td>\n",
       "      <td>16963601</td>\n",
       "      <td>NaN</td>\n",
       "      <td>16962078.0</td>\n",
       "      <td>NaN</td>\n",
       "      <td>NaN</td>\n",
       "      <td>1528401048</td>\n",
       "      <td>NaN</td>\n",
       "      <td>The New York State fee by itself is $200. Unle...</td>\n",
       "      <td>1525132803</td>\n",
       "      <td>NaN</td>\n",
       "      <td>comment</td>\n",
       "      <td>NaN</td>\n",
       "    </tr>\n",
       "  </tbody>\n",
       "</table>\n",
       "</div>"
      ],
      "text/plain": [
       "           by dead deleted  descendants        id kids      parent parts  \\\n",
       "0  burntwater  NaN     NaN          NaN  16963601  NaN  16962078.0   NaN   \n",
       "\n",
       "   poll  retrieved_on  score  \\\n",
       "0   NaN    1528401048    NaN   \n",
       "\n",
       "                                                text        time title  \\\n",
       "0  The New York State fee by itself is $200. Unle...  1525132803   NaN   \n",
       "\n",
       "      type  url  \n",
       "0  comment  NaN  "
      ]
     },
     "execution_count": 3,
     "metadata": {},
     "output_type": "execute_result"
    }
   ],
   "source": [
    "df.head(1)"
   ]
  },
  {
   "cell_type": "code",
   "execution_count": 4,
   "metadata": {},
   "outputs": [],
   "source": [
    "add_stops = ['ive', 'like', 'im', 'would']\n",
    "\n",
    "url_regex = re.compile(\n",
    "            r'http[s]?://(?:[a-zA-Z]|[0-9]|[$-_@.&+]|[!*\\(\\),]|(?:%[0-9a-fA-F][0-9a-fA-F]))+', \n",
    "            re.IGNORECASE\n",
    "        )\n",
    "stopwords_list = stopwords.words('english') + add_stops\n",
    "\n",
    "def clean_text(text):\n",
    "    text = text.replace('#', ' hash ')\n",
    "    text = text.replace('+', ' plus ')\n",
    "    text = re.sub(re.compile(r'\\d+'), ' num ', text)\n",
    "    text = re.sub(re.compile(r'\\s+'), ' ', text)\n",
    "    text = ''.join(re.findall(re.compile(r'[\\w\\s]+'), text))\n",
    "    text = ' '.join(list(filter(lambda x: x.lower() not in stopwords_list, text.split())))\n",
    "    text = text.lower()\n",
    "    return text\n",
    "\n",
    "def preprocees_text(text):\n",
    "    text = remove_tags(remove_tags(unescape(text)))\n",
    "    text = re.sub(url_regex, ' url ', text)\n",
    "    return text"
   ]
  },
  {
   "cell_type": "code",
   "execution_count": 5,
   "metadata": {
    "scrolled": true
   },
   "outputs": [
    {
     "name": "stderr",
     "output_type": "stream",
     "text": [
      "100%|██████████| 237646/237646 [00:12<00:00, 19209.06it/s]\n"
     ]
    }
   ],
   "source": [
    "df.loc[:, 'text'] = df['text'].fillna('').progress_apply(preprocees_text)"
   ]
  },
  {
   "cell_type": "code",
   "execution_count": 6,
   "metadata": {},
   "outputs": [
    {
     "name": "stderr",
     "output_type": "stream",
     "text": [
      "100%|██████████| 237646/237646 [00:58<00:00, 4035.70it/s]\n"
     ]
    }
   ],
   "source": [
    "df.loc[:, 'clean_text'] = df['text'].fillna('').progress_apply(clean_text)"
   ]
  },
  {
   "cell_type": "code",
   "execution_count": 7,
   "metadata": {},
   "outputs": [],
   "source": [
    "df1 = df.loc[df['clean_text'].apply(lambda x: len(x.split())) >= 13, :]"
   ]
  },
  {
   "cell_type": "markdown",
   "metadata": {},
   "source": [
    "8 мин -- 24тыс примеров!!!!"
   ]
  },
  {
   "cell_type": "code",
   "execution_count": 8,
   "metadata": {},
   "outputs": [
    {
     "name": "stderr",
     "output_type": "stream",
     "text": [
      "100%|██████████| 139301/139301 [1:00:41<00:00, 38.26it/s]\n"
     ]
    }
   ],
   "source": [
    "docs = list(tqdm(nlp.pipe(df1['text'].values), total=df1.shape[0]))"
   ]
  },
  {
   "cell_type": "code",
   "execution_count": 11,
   "metadata": {},
   "outputs": [],
   "source": [
    "ents = list(map(lambda x: Counter([ent.label_ for ent in x.ents]), docs))"
   ]
  },
  {
   "cell_type": "markdown",
   "metadata": {},
   "source": [
    "with open('./data/preprocessed/spacy_ents_more_13.pkl', 'wb') as f:\n",
    "    pickle.dump(ents, f)"
   ]
  },
  {
   "cell_type": "code",
   "execution_count": 15,
   "metadata": {
    "scrolled": true
   },
   "outputs": [
    {
     "name": "stderr",
     "output_type": "stream",
     "text": [
      "/home/anisimova-anna/anaconda3/lib/python3.6/site-packages/pandas/core/indexing.py:362: SettingWithCopyWarning: \n",
      "A value is trying to be set on a copy of a slice from a DataFrame.\n",
      "Try using .loc[row_indexer,col_indexer] = value instead\n",
      "\n",
      "See the caveats in the documentation: http://pandas.pydata.org/pandas-docs/stable/indexing.html#indexing-view-versus-copy\n",
      "  self.obj[key] = _infer_fill_value(value)\n",
      "/home/anisimova-anna/anaconda3/lib/python3.6/site-packages/pandas/core/indexing.py:543: SettingWithCopyWarning: \n",
      "A value is trying to be set on a copy of a slice from a DataFrame.\n",
      "Try using .loc[row_indexer,col_indexer] = value instead\n",
      "\n",
      "See the caveats in the documentation: http://pandas.pydata.org/pandas-docs/stable/indexing.html#indexing-view-versus-copy\n",
      "  self.obj[item] = s\n"
     ]
    }
   ],
   "source": [
    "df1.loc[:, 'ents'] = np.array(ents, dtype=object)"
   ]
  },
  {
   "cell_type": "code",
   "execution_count": 17,
   "metadata": {},
   "outputs": [
    {
     "name": "stderr",
     "output_type": "stream",
     "text": [
      "100%|██████████| 139301/139301 [00:00<00:00, 252683.84it/s]\n"
     ]
    }
   ],
   "source": [
    "df1.loc[:, 'ents_modal'] = df1['ents']\\\n",
    "    .progress_apply(lambda x: ' '.join(['{}:{}'.format(a, b) for a,b in x.items()]))"
   ]
  },
  {
   "cell_type": "markdown",
   "metadata": {
    "scrolled": true
   },
   "source": [
    "pool = mp.Pool(mp.cpu_count() - 1)\n",
    "result = pool.map(textrank.X2_test,\n",
    "                  df1['clean_text'].values)\n",
    "\n",
    "with open('./data/preprocessed/textrank_kw_more_13.pkl', 'wb') as f:\n",
    "    pickle.dump(result, f)"
   ]
  },
  {
   "cell_type": "code",
   "execution_count": 19,
   "metadata": {},
   "outputs": [],
   "source": [
    "with open('./data/preprocessed/textrank_kw_more_13.pkl', 'rb') as f:\n",
    "    result_kw = pickle.load(f)"
   ]
  },
  {
   "cell_type": "code",
   "execution_count": 20,
   "metadata": {
    "scrolled": true
   },
   "outputs": [],
   "source": [
    "df1.loc[:, 'textrank'] = np.array(result_kw, dtype=object)"
   ]
  },
  {
   "cell_type": "code",
   "execution_count": 22,
   "metadata": {},
   "outputs": [
    {
     "name": "stderr",
     "output_type": "stream",
     "text": [
      "/home/anisimova-anna/anaconda3/lib/python3.6/site-packages/ipykernel_launcher.py:1: SettingWithCopyWarning: \n",
      "A value is trying to be set on a copy of a slice from a DataFrame.\n",
      "Try using .loc[row_indexer,col_indexer] = value instead\n",
      "\n",
      "See the caveats in the documentation: http://pandas.pydata.org/pandas-docs/stable/indexing.html#indexing-view-versus-copy\n",
      "  \"\"\"Entry point for launching an IPython kernel.\n"
     ]
    }
   ],
   "source": [
    "df1['textrank'] = df1['textrank'].apply(lambda x: ' '.join(x))\n",
    "\n",
    "df1 = df1.reset_index(drop=True)\n",
    "\n",
    "df1.reset_index(drop=True).to_csv('./data/preprocessed/df_textrank_clean_more_13.csv', index=None)"
   ]
  },
  {
   "cell_type": "markdown",
   "metadata": {},
   "source": [
    "TOPMINE"
   ]
  },
  {
   "cell_type": "code",
   "execution_count": 24,
   "metadata": {},
   "outputs": [],
   "source": [
    "with open('../_work_bigARTM_logs/_bigARTM_research/TopMine/topmine/input/for_topmine.txt', 'w') as f:\n",
    "    for row in df['clean_text'].values:\n",
    "        f.write(row)\n",
    "        f.write('./n')"
   ]
  },
  {
   "cell_type": "code",
   "execution_count": 28,
   "metadata": {},
   "outputs": [],
   "source": [
    "with open('../_work_bigARTM_logs/_bigARTM_research/TopMine/topmine/output/frequent_phrases.txt', 'r') as f:\n",
    "    f_w = f.readlines()"
   ]
  },
  {
   "cell_type": "code",
   "execution_count": 34,
   "metadata": {},
   "outputs": [],
   "source": [
    "phrases = [eval(re.sub(re.compile(r'\\d+ '), '', phrase)) for phrase in f_w]"
   ]
  },
  {
   "cell_type": "code",
   "execution_count": 36,
   "metadata": {},
   "outputs": [],
   "source": [
    "cnt_ph = 30\n",
    "\n",
    "top_n_phs = list(filter(lambda x: (x[1] > cnt_ph) and ('num' not in x[0]), phrases))\n",
    "top_n_phs = [' {} '.format(x[0]) for x in top_n_phs]"
   ]
  },
  {
   "cell_type": "code",
   "execution_count": 38,
   "metadata": {},
   "outputs": [],
   "source": [
    "def replace_or_add_phs(text):\n",
    "    text = ' {} '.format(text)\n",
    "    regime='replace'\n",
    "    def find_top_phs(top_n_phs, text):\n",
    "        res = []\n",
    "        for ph in top_n_phs:\n",
    "            if ph in text:\n",
    "                res.append(ph)\n",
    "        return res\n",
    "    small_ph_list = find_top_phs(top_n_phs, text)\n",
    "    final_ph_list = list(map(lambda x: ' {} '.format('_'.join(x.strip().split())), small_ph_list))\n",
    "    if regime=='add':\n",
    "        text += ' ' + ' '.join(final_ph_list)\n",
    "    else:\n",
    "        for phrase, replace in zip(small_ph_list, final_ph_list):\n",
    "            text = text.replace(phrase, replace)\n",
    "    return text"
   ]
  },
  {
   "cell_type": "code",
   "execution_count": 42,
   "metadata": {},
   "outputs": [],
   "source": [
    "pool4 = mp.Pool(mp.cpu_count() - 1)\n",
    "result_ngram = pool4.map(replace_or_add_phs,\n",
    "                  df1['clean_text'].values)"
   ]
  },
  {
   "cell_type": "code",
   "execution_count": 43,
   "metadata": {
    "scrolled": true
   },
   "outputs": [],
   "source": [
    "df1.loc[:, 'replace_ngram'] = np.array(result_ngram, dtype=object)"
   ]
  },
  {
   "cell_type": "code",
   "execution_count": 46,
   "metadata": {},
   "outputs": [],
   "source": [
    "df1.to_csv('./data/preprocessed/df_textrank_clean_replace_more_13.csv', index=None)"
   ]
  },
  {
   "cell_type": "code",
   "execution_count": 47,
   "metadata": {},
   "outputs": [
    {
     "data": {
      "text/html": [
       "<div>\n",
       "<style scoped>\n",
       "    .dataframe tbody tr th:only-of-type {\n",
       "        vertical-align: middle;\n",
       "    }\n",
       "\n",
       "    .dataframe tbody tr th {\n",
       "        vertical-align: top;\n",
       "    }\n",
       "\n",
       "    .dataframe thead th {\n",
       "        text-align: right;\n",
       "    }\n",
       "</style>\n",
       "<table border=\"1\" class=\"dataframe\">\n",
       "  <thead>\n",
       "    <tr style=\"text-align: right;\">\n",
       "      <th></th>\n",
       "      <th>by</th>\n",
       "      <th>dead</th>\n",
       "      <th>deleted</th>\n",
       "      <th>descendants</th>\n",
       "      <th>id</th>\n",
       "      <th>kids</th>\n",
       "      <th>parent</th>\n",
       "      <th>parts</th>\n",
       "      <th>poll</th>\n",
       "      <th>retrieved_on</th>\n",
       "      <th>...</th>\n",
       "      <th>text</th>\n",
       "      <th>time</th>\n",
       "      <th>title</th>\n",
       "      <th>type</th>\n",
       "      <th>url</th>\n",
       "      <th>clean_text</th>\n",
       "      <th>ents</th>\n",
       "      <th>ents_modal</th>\n",
       "      <th>textrank</th>\n",
       "      <th>replace_ngram</th>\n",
       "    </tr>\n",
       "  </thead>\n",
       "  <tbody>\n",
       "    <tr>\n",
       "      <th>0</th>\n",
       "      <td>burntwater</td>\n",
       "      <td>NaN</td>\n",
       "      <td>NaN</td>\n",
       "      <td>NaN</td>\n",
       "      <td>16963601</td>\n",
       "      <td>NaN</td>\n",
       "      <td>16962078.0</td>\n",
       "      <td>NaN</td>\n",
       "      <td>NaN</td>\n",
       "      <td>1528401048</td>\n",
       "      <td>...</td>\n",
       "      <td>The New York State fee by itself is $200. Unle...</td>\n",
       "      <td>1525132803</td>\n",
       "      <td>NaN</td>\n",
       "      <td>comment</td>\n",
       "      <td>NaN</td>\n",
       "      <td>new york state fee num unless missing somethin...</td>\n",
       "      <td>{'GPE': 1, 'MONEY': 2, 'CARDINAL': 1}</td>\n",
       "      <td>GPE:1 MONEY:2 CARDINAL:1</td>\n",
       "      <td>fee requirement take significantly hundred giv...</td>\n",
       "      <td>new_york state fee num unless missing_somethi...</td>\n",
       "    </tr>\n",
       "  </tbody>\n",
       "</table>\n",
       "<p>1 rows × 21 columns</p>\n",
       "</div>"
      ],
      "text/plain": [
       "           by dead deleted  descendants        id kids      parent parts  \\\n",
       "0  burntwater  NaN     NaN          NaN  16963601  NaN  16962078.0   NaN   \n",
       "\n",
       "   poll  retrieved_on                        ...                          \\\n",
       "0   NaN    1528401048                        ...                           \n",
       "\n",
       "                                                text        time  title  \\\n",
       "0  The New York State fee by itself is $200. Unle...  1525132803    NaN   \n",
       "\n",
       "      type  url                                         clean_text  \\\n",
       "0  comment  NaN  new york state fee num unless missing somethin...   \n",
       "\n",
       "                                    ents                ents_modal  \\\n",
       "0  {'GPE': 1, 'MONEY': 2, 'CARDINAL': 1}  GPE:1 MONEY:2 CARDINAL:1   \n",
       "\n",
       "                                            textrank  \\\n",
       "0  fee requirement take significantly hundred giv...   \n",
       "\n",
       "                                       replace_ngram  \n",
       "0   new_york state fee num unless missing_somethi...  \n",
       "\n",
       "[1 rows x 21 columns]"
      ]
     },
     "execution_count": 47,
     "metadata": {},
     "output_type": "execute_result"
    }
   ],
   "source": [
    "df1.head(1)"
   ]
  },
  {
   "cell_type": "code",
   "execution_count": null,
   "metadata": {},
   "outputs": [],
   "source": [
    "def post_to_wabbit_multimodals(i, text, textrank):\n",
    "    text_cnt = ' '.join(['{}:{}'.format(x, y) for x,y in Counter(text.split()).items()])\n",
    "    row = '{} |@default_class {} |@textrank {}'\\\n",
    "        .format(i, text_cnt, textrank)\n",
    "    row = re.sub(r'\\s+', ' ', row)\n",
    "    return row"
   ]
  },
  {
   "cell_type": "code",
   "execution_count": 48,
   "metadata": {},
   "outputs": [],
   "source": [
    "def post_to_wabbit_multimodals(i, text, textrank, ents):\n",
    "    text_cnt = ' '.join(['{}:{}'.format(x, y) for x,y in Counter(text.split()).items()])\n",
    "    row = '{} |@default_class {} |@textrank {} |@ents {}'\\\n",
    "        .format(i, text_cnt, textrank, ents)\n",
    "    row = re.sub(r'\\s+', ' ', row)\n",
    "    return row"
   ]
  },
  {
   "cell_type": "code",
   "execution_count": 49,
   "metadata": {},
   "outputs": [
    {
     "data": {
      "text/plain": [
       "Index(['by', 'dead', 'deleted', 'descendants', 'id', 'kids', 'parent', 'parts',\n",
       "       'poll', 'retrieved_on', 'score', 'text', 'time', 'title', 'type', 'url',\n",
       "       'clean_text', 'ents', 'ents_modal', 'textrank', 'replace_ngram'],\n",
       "      dtype='object')"
      ]
     },
     "execution_count": 49,
     "metadata": {},
     "output_type": "execute_result"
    }
   ],
   "source": [
    "df1.columns"
   ]
  },
  {
   "cell_type": "code",
   "execution_count": 50,
   "metadata": {},
   "outputs": [],
   "source": [
    "def creacte_dict_multimodal(df, name, column):\n",
    "    \n",
    "    batch_folder = './{}_batches'.format(name)\n",
    "    data_path = './{}_vw.txt'.format(name)\n",
    "    dict_path = batch_folder + '/dictionary.dict'  \n",
    "    \n",
    "    dic = artm.Dictionary()\n",
    "    \n",
    "    if os.path.isfile(dict_path):\n",
    "        dic.load(dictionary_path=dict_path)\n",
    "        \n",
    "        batch_vectorizer = artm.BatchVectorizer(data_path=data_path, \n",
    "                                        data_format='vowpal_wabbit', \n",
    "                                        collection_name='nthhappens', \n",
    "                                        target_folder=batch_folder)\n",
    "        return batch_vectorizer, dic\n",
    "    \n",
    "    with open('./{}_vw.txt'.format(name), 'w', encoding='utf8') as f:\n",
    "        for i, row in df.iterrows():\n",
    "            line = post_to_wabbit_multimodals(i, row[column], row['textrank'], row['ents_modal'])\n",
    "            f.write(line)\n",
    "            f.write('\\n')        \n",
    "    \n",
    "    batch_vectorizer = artm.BatchVectorizer(data_path=data_path, \n",
    "                                        data_format='vowpal_wabbit', \n",
    "                                        collection_name='nthhappens', \n",
    "                                        target_folder=batch_folder)\n",
    "    \n",
    "    \n",
    "    dic.gather(data_path=batch_vectorizer.data_path)\n",
    "    dic.save(dictionary_path=dict_path)\n",
    "    \n",
    "    return batch_vectorizer, dic"
   ]
  },
  {
   "cell_type": "code",
   "execution_count": 52,
   "metadata": {},
   "outputs": [],
   "source": [
    "batch_vectorizer, dic = creacte_dict_multimodal(df=df1, \n",
    "                                                name='clean_replace_ent_text_textrank_more_13', \n",
    "                                                column='replace_ngram')"
   ]
  }
 ],
 "metadata": {
  "kernelspec": {
   "display_name": "Python 3",
   "language": "python",
   "name": "python3"
  },
  "language_info": {
   "codemirror_mode": {
    "name": "ipython",
    "version": 3
   },
   "file_extension": ".py",
   "mimetype": "text/x-python",
   "name": "python",
   "nbconvert_exporter": "python",
   "pygments_lexer": "ipython3",
   "version": "3.6.0"
  }
 },
 "nbformat": 4,
 "nbformat_minor": 2
}
